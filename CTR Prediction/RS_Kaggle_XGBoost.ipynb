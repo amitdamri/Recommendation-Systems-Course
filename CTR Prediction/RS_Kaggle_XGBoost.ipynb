{
  "nbformat": 4,
  "nbformat_minor": 0,
  "metadata": {
    "colab": {
      "name": "RS Kaggle XGBoost.ipynb",
      "provenance": []
    },
    "kernelspec": {
      "name": "python3",
      "display_name": "Python 3"
    },
    "language_info": {
      "name": "python"
    }
  },
  "cells": [
    {
      "cell_type": "markdown",
      "metadata": {
        "id": "MzxkHsKeRFoA"
      },
      "source": [
        "#Mount drive"
      ]
    },
    {
      "cell_type": "code",
      "metadata": {
        "colab": {
          "base_uri": "https://localhost:8080/"
        },
        "id": "IzCL1LEdGfsv",
        "outputId": "414952f8-4616-4047-c1fe-478e9b652523"
      },
      "source": [
        "from google.colab import drive\n",
        "drive.mount(\"/content/drive\")"
      ],
      "execution_count": 1,
      "outputs": [
        {
          "output_type": "stream",
          "text": [
            "Mounted at /content/drive\n"
          ],
          "name": "stdout"
        }
      ]
    },
    {
      "cell_type": "markdown",
      "metadata": {
        "id": "q_7dcPmBRIrw"
      },
      "source": [
        "#Installations and imports"
      ]
    },
    {
      "cell_type": "code",
      "metadata": {
        "colab": {
          "base_uri": "https://localhost:8080/"
        },
        "id": "6yqRz_sbGlYK",
        "outputId": "6b5688c3-ac60-4f2d-c159-213e5b2bc4ba"
      },
      "source": [
        "# !pip install scikit-surprise\n",
        "# !pip install catboost\n",
        "!pip install xgboost"
      ],
      "execution_count": 4,
      "outputs": [
        {
          "output_type": "stream",
          "text": [
            "Requirement already satisfied: xgboost in /usr/local/lib/python3.7/dist-packages (0.90)\n",
            "Requirement already satisfied: numpy in /usr/local/lib/python3.7/dist-packages (from xgboost) (1.19.5)\n",
            "Requirement already satisfied: scipy in /usr/local/lib/python3.7/dist-packages (from xgboost) (1.4.1)\n"
          ],
          "name": "stdout"
        }
      ]
    },
    {
      "cell_type": "code",
      "metadata": {
        "id": "PQsy7sbZGoXe"
      },
      "source": [
        "import os\n",
        "import pandas as pd\n",
        "import xgboost\n",
        "from xgboost import XGBClassifier"
      ],
      "execution_count": 5,
      "outputs": []
    },
    {
      "cell_type": "markdown",
      "metadata": {
        "id": "fRo_bxUgRVKw"
      },
      "source": [
        "#Get Data"
      ]
    },
    {
      "cell_type": "code",
      "metadata": {
        "id": "Wu3XrAZDGquP"
      },
      "source": [
        "home_path = \"/content/drive/MyDrive/RS_Kaggle_Competition\""
      ],
      "execution_count": 6,
      "outputs": []
    },
    {
      "cell_type": "code",
      "metadata": {
        "colab": {
          "base_uri": "https://localhost:8080/"
        },
        "id": "QRr7rxtyGscC",
        "outputId": "b80ae5da-f8c9-4468-b88d-df610378eedf"
      },
      "source": [
        "# data of 10 times rows number of any value of user_target_recs\n",
        "\n",
        "train_data_path = \"/content/drive/MyDrive/RS_Kaggle_Competition/train_val_with_distribution/train.csv\"\n",
        "sample_train_data = pd.read_csv(train_data_path, index_col=0)"
      ],
      "execution_count": 7,
      "outputs": [
        {
          "output_type": "stream",
          "text": [
            "/usr/local/lib/python3.7/dist-packages/numpy/lib/arraysetops.py:580: FutureWarning: elementwise comparison failed; returning scalar instead, but in the future will perform elementwise comparison\n",
            "  mask |= (ar1 == a)\n"
          ],
          "name": "stderr"
        }
      ]
    },
    {
      "cell_type": "code",
      "metadata": {
        "id": "DCB36PtUGz6X"
      },
      "source": [
        "train_data = sample_train_data.fillna(\"Unknown\")\n",
        "# train_data = sample_train_data.dropna(inplace=False)\n",
        "\n",
        "train_data[\"page_view_start_time\"] = pd.to_datetime(train_data[\"page_view_start_time\"], unit='ms')\n",
        "# train_data[\"month\"] = train_data[\"page_vies_start_time\"].dt.month\n",
        "train_data[\"day\"] = train_data[\"page_view_start_time\"].dt.day\n",
        "\n",
        "# train_data.drop(columns=[\"page_view_start_time\", \"gmt_offset\", \"user_id_hash\", \"day\"], inplace=True)\n",
        "train_data.drop(columns=[\"user_id_hash\", \"page_view_start_time\", \"gmt_offset\"], inplace=True)"
      ],
      "execution_count": 8,
      "outputs": []
    },
    {
      "cell_type": "code",
      "metadata": {
        "colab": {
          "base_uri": "https://localhost:8080/"
        },
        "id": "IfjJO83sGxhV",
        "outputId": "ba6c2157-68b6-4498-d873-319bc605e129"
      },
      "source": [
        "# validation data of 4 times rows number of any value of user_target_recs\n",
        "\n",
        "val_data_path = \"/content/drive/MyDrive/RS_Kaggle_Competition/train_val_with_distribution/val.csv\"\n",
        "sample_val_data = pd.read_csv(val_data_path, index_col=0)"
      ],
      "execution_count": 9,
      "outputs": [
        {
          "output_type": "stream",
          "text": [
            "/usr/local/lib/python3.7/dist-packages/numpy/lib/arraysetops.py:580: FutureWarning: elementwise comparison failed; returning scalar instead, but in the future will perform elementwise comparison\n",
            "  mask |= (ar1 == a)\n"
          ],
          "name": "stderr"
        }
      ]
    },
    {
      "cell_type": "code",
      "metadata": {
        "id": "6HoXev3gHALF"
      },
      "source": [
        "val_data = sample_val_data.fillna(\"Unknown\")\n",
        "# val_data = sample_val_data.dropna(inplace=False)\n",
        "\n",
        "val_data[\"page_view_start_time\"] = pd.to_datetime(val_data[\"page_view_start_time\"], unit='ms')\n",
        "# train_data[\"month\"] = train_data[\"page_vies_start_time\"].dt.month\n",
        "val_data[\"day\"] = val_data[\"page_view_start_time\"].dt.day\n",
        "\n",
        "# val_data.drop(columns=[\"page_view_start_time\", \"gmt_offset\", \"user_id_hash\", \"day\"], inplace=True)\n",
        "val_data.drop(columns=[\"user_id_hash\", \"page_view_start_time\", \"gmt_offset\"], inplace=True)"
      ],
      "execution_count": 10,
      "outputs": []
    },
    {
      "cell_type": "code",
      "metadata": {
        "id": "hRWjMS4eHIJa"
      },
      "source": [
        "test_data = pd.read_csv(\"/content/drive/MyDrive/RS_Kaggle_Competition/test/test_file.csv\")\n"
      ],
      "execution_count": 11,
      "outputs": []
    },
    {
      "cell_type": "code",
      "metadata": {
        "id": "PqTsQviOHKbh"
      },
      "source": [
        "test_data = test_data.fillna(\"Unknown\")\n",
        "test_data = test_data.iloc[:,:-1]\n",
        "test_data[\"page_view_start_time\"] = pd.to_datetime(test_data[\"page_view_start_time\"], unit='ms')\n",
        "# train_data[\"month\"] = train_data[\"page_vies_start_time\"].dt.month\n",
        "test_data[\"day\"] = test_data[\"page_view_start_time\"].dt.day\n",
        "\n",
        "# test_data.drop(columns=[\"page_view_start_time\", \"gmt_offset\", \"user_id_hash\", \"day\"], inplace=True)\n",
        "test_data.drop(columns=[\"user_id_hash\",\"page_view_start_time\", \"gmt_offset\"], inplace=True)"
      ],
      "execution_count": 12,
      "outputs": []
    },
    {
      "cell_type": "markdown",
      "metadata": {
        "id": "zD_L9WfsHwJZ"
      },
      "source": [
        "#Incremental LabelEncoder - CategoryEncoder"
      ]
    },
    {
      "cell_type": "markdown",
      "metadata": {
        "id": "MPNguHztSIY6"
      },
      "source": [
        "Using a class of inremental labelEncoding - lets us fit multiple times to multiple dataframes - fit and transform to the train, validation and test on all the categorical features"
      ]
    },
    {
      "cell_type": "code",
      "metadata": {
        "id": "Ywq8yEbEH-Io"
      },
      "source": [
        "from collections.abc import Iterable\n",
        "\n",
        "class CategoryEncoder(object):\n",
        "    \"\"\"\n",
        "    Once fit method is called, sklearn.preprocessing.LabelEncoder cannot encode new categories. \n",
        "    In this category encoder, fit can be called any number times. It encodes categories which it has not seen before,\n",
        "    without changing the encoding of existing categories. \n",
        "    \n",
        "    Usually the first category has encoded value of zero. We can override it with value 'start'\n",
        "    \"\"\"\n",
        "    mapping = {}\n",
        "    start = 0\n",
        "    \n",
        "    def __init__(self, start=0):\n",
        "        self.start = start\n",
        "        \n",
        "    def fit(self, l):\n",
        "        if not isinstance(l, Iterable):\n",
        "            l = [l]\n",
        "        for o in l:\n",
        "            if o not in self.mapping.keys():\n",
        "                self.mapping[o] = len(self.mapping.keys()) + self.start\n",
        "        return self\n",
        "                \n",
        "    def transform(self, l):\n",
        "        if isinstance(l, Iterable):\n",
        "            return [self.mapping.get(o,-1) for o in l]\n",
        "        else:\n",
        "            return self.mapping.get(l,-1)\n",
        "    \n",
        "    def fit_transform(self,l):\n",
        "        self.fit(l)\n",
        "        return self.transform(l) "
      ],
      "execution_count": 13,
      "outputs": []
    },
    {
      "cell_type": "code",
      "metadata": {
        "id": "PLLKvsmwIKaB"
      },
      "source": [
        "encode_cols = [\"target_id_hash\", \"syndicator_id_hash\", \"campaign_id_hash\", \"target_item_taxonomy\", \"placement_id_hash\", \"publisher_id_hash\", \"source_id_hash\", \"source_item_type\", \"browser_platform\", \"os_family\", \"country_code\", \"region\"]\n",
        "\n",
        "# label encode\n",
        "def get_encoders_dict(encode_cols=encode_cols):\n",
        "  encoders_dict = {}\n",
        "  for encode_col in encode_cols:\n",
        "    encoders_dict[encode_col] = CategoryEncoder()\n",
        "  \n",
        "  return encoders_dict\n",
        "\n",
        "def encode_data(df, encoders_dict):\n",
        "  for key in encoders_dict.keys():\n",
        "    df[key] = encoders_dict[key].fit_transform(df[key].astype(str))\n",
        "  \n",
        "  return df"
      ],
      "execution_count": 14,
      "outputs": []
    },
    {
      "cell_type": "code",
      "metadata": {
        "id": "M_sU58s6Ixm2"
      },
      "source": [
        "encoders_dict = get_encoders_dict()"
      ],
      "execution_count": 15,
      "outputs": []
    },
    {
      "cell_type": "code",
      "metadata": {
        "id": "MTDW-GvsI1Z4"
      },
      "source": [
        "train_data = encode_data(train_data, encoders_dict)\n",
        "val_data = encode_data(val_data, encoders_dict)\n",
        "test_data = encode_data(test_data, encoders_dict)"
      ],
      "execution_count": 16,
      "outputs": []
    },
    {
      "cell_type": "markdown",
      "metadata": {
        "id": "k0iNvEwOIBjG"
      },
      "source": [
        "#Train Model"
      ]
    },
    {
      "cell_type": "code",
      "metadata": {
        "id": "TYXIhrPDJJ3T"
      },
      "source": [
        "model = XGBClassifier()"
      ],
      "execution_count": 19,
      "outputs": []
    },
    {
      "cell_type": "code",
      "metadata": {
        "id": "fox2pbQaJxa0"
      },
      "source": [
        "X_train = train_data.drop(columns=\"is_click\", inplace=False)\n",
        "y_train = train_data[\"is_click\"]\n",
        "\n",
        "X_val = val_data.drop(columns=\"is_click\", inplace=False)\n",
        "y_val = val_data[\"is_click\"]"
      ],
      "execution_count": 17,
      "outputs": []
    },
    {
      "cell_type": "code",
      "metadata": {
        "colab": {
          "base_uri": "https://localhost:8080/"
        },
        "id": "XNUMMvVuJlhx",
        "outputId": "68ed0fad-9682-49c5-9f61-74fa567a6a37"
      },
      "source": [
        "model.fit(X_train, y_train, eval_metric='auc', eval_set=[(X_train, y_train), (X_val, y_val)])"
      ],
      "execution_count": 23,
      "outputs": [
        {
          "output_type": "stream",
          "text": [
            "[0]\tvalidation_0-auc:0.694451\tvalidation_1-auc:0.694489\n",
            "[1]\tvalidation_0-auc:0.711563\tvalidation_1-auc:0.711721\n",
            "[2]\tvalidation_0-auc:0.717608\tvalidation_1-auc:0.71766\n",
            "[3]\tvalidation_0-auc:0.723213\tvalidation_1-auc:0.723526\n",
            "[4]\tvalidation_0-auc:0.734612\tvalidation_1-auc:0.734834\n",
            "[5]\tvalidation_0-auc:0.73596\tvalidation_1-auc:0.736269\n",
            "[6]\tvalidation_0-auc:0.740875\tvalidation_1-auc:0.741162\n",
            "[7]\tvalidation_0-auc:0.743778\tvalidation_1-auc:0.744112\n",
            "[8]\tvalidation_0-auc:0.74534\tvalidation_1-auc:0.745628\n",
            "[9]\tvalidation_0-auc:0.74652\tvalidation_1-auc:0.746809\n",
            "[10]\tvalidation_0-auc:0.750379\tvalidation_1-auc:0.750718\n",
            "[11]\tvalidation_0-auc:0.761658\tvalidation_1-auc:0.761926\n",
            "[12]\tvalidation_0-auc:0.763416\tvalidation_1-auc:0.76368\n",
            "[13]\tvalidation_0-auc:0.769348\tvalidation_1-auc:0.7696\n",
            "[14]\tvalidation_0-auc:0.771408\tvalidation_1-auc:0.771687\n",
            "[15]\tvalidation_0-auc:0.773831\tvalidation_1-auc:0.774149\n",
            "[16]\tvalidation_0-auc:0.77919\tvalidation_1-auc:0.779452\n",
            "[17]\tvalidation_0-auc:0.781957\tvalidation_1-auc:0.782218\n",
            "[18]\tvalidation_0-auc:0.784778\tvalidation_1-auc:0.785033\n",
            "[19]\tvalidation_0-auc:0.785469\tvalidation_1-auc:0.785717\n",
            "[20]\tvalidation_0-auc:0.787298\tvalidation_1-auc:0.787572\n",
            "[21]\tvalidation_0-auc:0.790368\tvalidation_1-auc:0.79058\n",
            "[22]\tvalidation_0-auc:0.79237\tvalidation_1-auc:0.792558\n",
            "[23]\tvalidation_0-auc:0.794476\tvalidation_1-auc:0.794614\n",
            "[24]\tvalidation_0-auc:0.795859\tvalidation_1-auc:0.796008\n",
            "[25]\tvalidation_0-auc:0.797327\tvalidation_1-auc:0.797445\n",
            "[26]\tvalidation_0-auc:0.79869\tvalidation_1-auc:0.798772\n",
            "[27]\tvalidation_0-auc:0.800296\tvalidation_1-auc:0.800351\n",
            "[28]\tvalidation_0-auc:0.800636\tvalidation_1-auc:0.800689\n",
            "[29]\tvalidation_0-auc:0.801425\tvalidation_1-auc:0.801467\n",
            "[30]\tvalidation_0-auc:0.803759\tvalidation_1-auc:0.803766\n",
            "[31]\tvalidation_0-auc:0.805288\tvalidation_1-auc:0.805274\n",
            "[32]\tvalidation_0-auc:0.806124\tvalidation_1-auc:0.806079\n",
            "[33]\tvalidation_0-auc:0.807368\tvalidation_1-auc:0.807351\n",
            "[34]\tvalidation_0-auc:0.808583\tvalidation_1-auc:0.808566\n",
            "[35]\tvalidation_0-auc:0.81016\tvalidation_1-auc:0.810101\n",
            "[36]\tvalidation_0-auc:0.81123\tvalidation_1-auc:0.811126\n",
            "[37]\tvalidation_0-auc:0.812475\tvalidation_1-auc:0.812363\n",
            "[38]\tvalidation_0-auc:0.813146\tvalidation_1-auc:0.813041\n",
            "[39]\tvalidation_0-auc:0.81367\tvalidation_1-auc:0.813584\n",
            "[40]\tvalidation_0-auc:0.814376\tvalidation_1-auc:0.814306\n",
            "[41]\tvalidation_0-auc:0.815534\tvalidation_1-auc:0.815453\n",
            "[42]\tvalidation_0-auc:0.815997\tvalidation_1-auc:0.81591\n",
            "[43]\tvalidation_0-auc:0.816269\tvalidation_1-auc:0.816173\n",
            "[44]\tvalidation_0-auc:0.817138\tvalidation_1-auc:0.817056\n",
            "[45]\tvalidation_0-auc:0.817562\tvalidation_1-auc:0.817495\n",
            "[46]\tvalidation_0-auc:0.81792\tvalidation_1-auc:0.817826\n",
            "[47]\tvalidation_0-auc:0.818629\tvalidation_1-auc:0.818539\n",
            "[48]\tvalidation_0-auc:0.818898\tvalidation_1-auc:0.8188\n",
            "[49]\tvalidation_0-auc:0.819292\tvalidation_1-auc:0.819201\n",
            "[50]\tvalidation_0-auc:0.819581\tvalidation_1-auc:0.819477\n",
            "[51]\tvalidation_0-auc:0.820429\tvalidation_1-auc:0.820303\n",
            "[52]\tvalidation_0-auc:0.820909\tvalidation_1-auc:0.820792\n",
            "[53]\tvalidation_0-auc:0.821118\tvalidation_1-auc:0.82099\n",
            "[54]\tvalidation_0-auc:0.821445\tvalidation_1-auc:0.821328\n",
            "[55]\tvalidation_0-auc:0.821591\tvalidation_1-auc:0.821468\n",
            "[56]\tvalidation_0-auc:0.821972\tvalidation_1-auc:0.821843\n",
            "[57]\tvalidation_0-auc:0.822397\tvalidation_1-auc:0.822272\n",
            "[58]\tvalidation_0-auc:0.822843\tvalidation_1-auc:0.822707\n",
            "[59]\tvalidation_0-auc:0.822982\tvalidation_1-auc:0.822849\n",
            "[60]\tvalidation_0-auc:0.823414\tvalidation_1-auc:0.8233\n",
            "[61]\tvalidation_0-auc:0.823689\tvalidation_1-auc:0.823571\n",
            "[62]\tvalidation_0-auc:0.823844\tvalidation_1-auc:0.823717\n",
            "[63]\tvalidation_0-auc:0.824077\tvalidation_1-auc:0.823937\n",
            "[64]\tvalidation_0-auc:0.824508\tvalidation_1-auc:0.824361\n",
            "[65]\tvalidation_0-auc:0.824814\tvalidation_1-auc:0.824678\n",
            "[66]\tvalidation_0-auc:0.824983\tvalidation_1-auc:0.824844\n",
            "[67]\tvalidation_0-auc:0.82517\tvalidation_1-auc:0.825031\n",
            "[68]\tvalidation_0-auc:0.825664\tvalidation_1-auc:0.825512\n",
            "[69]\tvalidation_0-auc:0.825811\tvalidation_1-auc:0.825653\n",
            "[70]\tvalidation_0-auc:0.825977\tvalidation_1-auc:0.825819\n",
            "[71]\tvalidation_0-auc:0.8262\tvalidation_1-auc:0.826052\n",
            "[72]\tvalidation_0-auc:0.82629\tvalidation_1-auc:0.826141\n",
            "[73]\tvalidation_0-auc:0.826494\tvalidation_1-auc:0.826355\n",
            "[74]\tvalidation_0-auc:0.826861\tvalidation_1-auc:0.826711\n",
            "[75]\tvalidation_0-auc:0.82704\tvalidation_1-auc:0.826884\n",
            "[76]\tvalidation_0-auc:0.82737\tvalidation_1-auc:0.827205\n",
            "[77]\tvalidation_0-auc:0.827482\tvalidation_1-auc:0.827315\n",
            "[78]\tvalidation_0-auc:0.827591\tvalidation_1-auc:0.82743\n",
            "[79]\tvalidation_0-auc:0.827662\tvalidation_1-auc:0.827495\n",
            "[80]\tvalidation_0-auc:0.827743\tvalidation_1-auc:0.827573\n",
            "[81]\tvalidation_0-auc:0.827822\tvalidation_1-auc:0.82765\n",
            "[82]\tvalidation_0-auc:0.82804\tvalidation_1-auc:0.827855\n",
            "[83]\tvalidation_0-auc:0.82829\tvalidation_1-auc:0.828096\n",
            "[84]\tvalidation_0-auc:0.828399\tvalidation_1-auc:0.828197\n",
            "[85]\tvalidation_0-auc:0.828547\tvalidation_1-auc:0.828358\n",
            "[86]\tvalidation_0-auc:0.828611\tvalidation_1-auc:0.828421\n",
            "[87]\tvalidation_0-auc:0.828679\tvalidation_1-auc:0.82848\n",
            "[88]\tvalidation_0-auc:0.828834\tvalidation_1-auc:0.82864\n",
            "[89]\tvalidation_0-auc:0.829221\tvalidation_1-auc:0.829019\n",
            "[90]\tvalidation_0-auc:0.829402\tvalidation_1-auc:0.829194\n",
            "[91]\tvalidation_0-auc:0.829461\tvalidation_1-auc:0.829257\n",
            "[92]\tvalidation_0-auc:0.829574\tvalidation_1-auc:0.829368\n",
            "[93]\tvalidation_0-auc:0.829605\tvalidation_1-auc:0.829395\n",
            "[94]\tvalidation_0-auc:0.829708\tvalidation_1-auc:0.82951\n",
            "[95]\tvalidation_0-auc:0.829818\tvalidation_1-auc:0.829617\n",
            "[96]\tvalidation_0-auc:0.829901\tvalidation_1-auc:0.829693\n",
            "[97]\tvalidation_0-auc:0.829961\tvalidation_1-auc:0.829753\n",
            "[98]\tvalidation_0-auc:0.830048\tvalidation_1-auc:0.829844\n",
            "[99]\tvalidation_0-auc:0.830277\tvalidation_1-auc:0.830063\n"
          ],
          "name": "stdout"
        },
        {
          "output_type": "execute_result",
          "data": {
            "text/plain": [
              "XGBClassifier(base_score=0.5, booster='gbtree', colsample_bylevel=1,\n",
              "              colsample_bynode=1, colsample_bytree=1, gamma=0,\n",
              "              learning_rate=0.1, max_delta_step=0, max_depth=3,\n",
              "              min_child_weight=1, missing=None, n_estimators=100, n_jobs=1,\n",
              "              nthread=None, objective='binary:logistic', random_state=0,\n",
              "              reg_alpha=0, reg_lambda=1, scale_pos_weight=1, seed=None,\n",
              "              silent=None, subsample=1, verbosity=1)"
            ]
          },
          "metadata": {
            "tags": []
          },
          "execution_count": 23
        }
      ]
    },
    {
      "cell_type": "markdown",
      "metadata": {
        "id": "GlRm5o5qShO5"
      },
      "source": [
        "The results we received from the xgboost model weren't better than the ones that we received on the same validation data from other models (up to auc=~0.858) so we did not submit it to the kaggle competition"
      ]
    }
  ]
}