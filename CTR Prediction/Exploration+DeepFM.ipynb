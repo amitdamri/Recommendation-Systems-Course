{
  "nbformat": 4,
  "nbformat_minor": 0,
  "metadata": {
    "colab": {
      "name": "Exploration+DeepFM.ipynb",
      "provenance": [],
      "collapsed_sections": [
        "yiDN9HnQluWi",
        "zgP5Q8qAlzoZ",
        "gX7rCOR3i0UB",
        "7vIpPxL48kaP",
        "9hI3sgzOQ2KU"
      ]
    },
    "kernelspec": {
      "name": "python3",
      "display_name": "Python 3"
    },
    "language_info": {
      "name": "python"
    },
    "accelerator": "GPU"
  },
  "cells": [
    {
      "cell_type": "markdown",
      "metadata": {
        "id": "yiDN9HnQluWi"
      },
      "source": [
        "# Imports and Downloads"
      ]
    },
    {
      "cell_type": "code",
      "metadata": {
        "colab": {
          "base_uri": "https://localhost:8080/",
          "height": 35
        },
        "id": "fX1cydoBEdTc",
        "outputId": "e188d996-f602-498a-fa85-8b21c88fd099"
      },
      "source": [
        "# kaggle imports\n",
        "\"\"\"\n",
        "!pip uninstall -y kaggle\n",
        "!pip install --upgrade pip\n",
        "!pip install kaggle==1.5.12\n",
        "\"\"\""
      ],
      "execution_count": 113,
      "outputs": [
        {
          "output_type": "execute_result",
          "data": {
            "application/vnd.google.colaboratory.intrinsic+json": {
              "type": "string"
            },
            "text/plain": [
              "'\\n!pip uninstall -y kaggle\\n!pip install --upgrade pip\\n!pip install kaggle==1.5.12\\n'"
            ]
          },
          "metadata": {
            "tags": []
          },
          "execution_count": 113
        }
      ]
    },
    {
      "cell_type": "code",
      "metadata": {
        "id": "9bhgHY0LmBuK"
      },
      "source": [
        "# global libraries\n",
        "import matplotlib.pyplot as plt\n",
        "import time"
      ],
      "execution_count": 114,
      "outputs": []
    },
    {
      "cell_type": "code",
      "metadata": {
        "colab": {
          "base_uri": "https://localhost:8080/",
          "height": 442
        },
        "id": "zRUc_fBI8rNX",
        "outputId": "3859f297-12f1-4487-94fb-1adb0d57c373"
      },
      "source": [
        "# install deepctr\n",
        "!pip install deepctr==0.8.5"
      ],
      "execution_count": 115,
      "outputs": [
        {
          "output_type": "stream",
          "text": [
            "Requirement already satisfied: deepctr==0.8.5 in /usr/local/lib/python3.7/dist-packages (0.8.5)\n",
            "Collecting h5py==2.10.0\n",
            "  Using cached https://files.pythonhosted.org/packages/3f/c0/abde58b837e066bca19a3f7332d9d0493521d7dd6b48248451a9e3fe2214/h5py-2.10.0-cp37-cp37m-manylinux1_x86_64.whl\n",
            "Requirement already satisfied: requests in /usr/local/lib/python3.7/dist-packages (from deepctr==0.8.5) (2.23.0)\n",
            "Requirement already satisfied: six in /usr/local/lib/python3.7/dist-packages (from h5py==2.10.0->deepctr==0.8.5) (1.15.0)\n",
            "Requirement already satisfied: numpy>=1.7 in /usr/local/lib/python3.7/dist-packages (from h5py==2.10.0->deepctr==0.8.5) (1.19.5)\n",
            "Requirement already satisfied: certifi>=2017.4.17 in /usr/local/lib/python3.7/dist-packages (from requests->deepctr==0.8.5) (2020.12.5)\n",
            "Requirement already satisfied: chardet<4,>=3.0.2 in /usr/local/lib/python3.7/dist-packages (from requests->deepctr==0.8.5) (3.0.4)\n",
            "Requirement already satisfied: urllib3!=1.25.0,!=1.25.1,<1.26,>=1.21.1 in /usr/local/lib/python3.7/dist-packages (from requests->deepctr==0.8.5) (1.24.3)\n",
            "Requirement already satisfied: idna<3,>=2.5 in /usr/local/lib/python3.7/dist-packages (from requests->deepctr==0.8.5) (2.10)\n",
            "\u001b[31mERROR: tf-nightly 2.6.0.dev20210612 has requirement h5py~=3.1.0, but you'll have h5py 2.10.0 which is incompatible.\u001b[0m\n",
            "\u001b[31mERROR: tensorflow 2.5.0 has requirement grpcio~=1.34.0, but you'll have grpcio 1.38.0 which is incompatible.\u001b[0m\n",
            "\u001b[31mERROR: tensorflow 2.5.0 has requirement h5py~=3.1.0, but you'll have h5py 2.10.0 which is incompatible.\u001b[0m\n",
            "\u001b[31mERROR: tensorflow 2.5.0 has requirement keras-nightly~=2.5.0.dev, but you'll have keras-nightly 2.6.0.dev2021061200 which is incompatible.\u001b[0m\n",
            "Installing collected packages: h5py\n",
            "  Found existing installation: h5py 3.1.0\n",
            "    Uninstalling h5py-3.1.0:\n",
            "      Successfully uninstalled h5py-3.1.0\n",
            "Successfully installed h5py-2.10.0\n"
          ],
          "name": "stdout"
        },
        {
          "output_type": "display_data",
          "data": {
            "application/vnd.colab-display-data+json": {
              "pip_warning": {
                "packages": [
                  "h5py"
                ]
              }
            }
          },
          "metadata": {
            "tags": []
          }
        }
      ]
    },
    {
      "cell_type": "code",
      "metadata": {
        "colab": {
          "base_uri": "https://localhost:8080/",
          "height": 1000
        },
        "id": "Uk-pFLLuwb15",
        "outputId": "7c1f3e52-36f8-4ed3-cab7-370dec18798c"
      },
      "source": [
        "# tensorflow nightly\n",
        "!pip install tf-nightly"
      ],
      "execution_count": 116,
      "outputs": [
        {
          "output_type": "stream",
          "text": [
            "Requirement already satisfied: tf-nightly in /usr/local/lib/python3.7/dist-packages (2.6.0.dev20210612)\n",
            "Requirement already satisfied: tb-nightly~=2.6.0.a in /usr/local/lib/python3.7/dist-packages (from tf-nightly) (2.6.0a20210612)\n",
            "Requirement already satisfied: keras-nightly~=2.6.0.dev in /usr/local/lib/python3.7/dist-packages (from tf-nightly) (2.6.0.dev2021061200)\n",
            "Requirement already satisfied: flatbuffers~=1.12.0 in /usr/local/lib/python3.7/dist-packages (from tf-nightly) (1.12)\n",
            "Requirement already satisfied: astunparse~=1.6.3 in /usr/local/lib/python3.7/dist-packages (from tf-nightly) (1.6.3)\n",
            "Requirement already satisfied: protobuf>=3.9.2 in /usr/local/lib/python3.7/dist-packages (from tf-nightly) (3.12.4)\n",
            "Requirement already satisfied: typing-extensions~=3.7.4 in /usr/local/lib/python3.7/dist-packages (from tf-nightly) (3.7.4.3)\n",
            "Requirement already satisfied: wrapt~=1.12.1 in /usr/local/lib/python3.7/dist-packages (from tf-nightly) (1.12.1)\n",
            "Requirement already satisfied: grpcio<2.0,>=1.37.0 in /usr/local/lib/python3.7/dist-packages (from tf-nightly) (1.38.0)\n",
            "Requirement already satisfied: absl-py~=0.10 in /usr/local/lib/python3.7/dist-packages (from tf-nightly) (0.12.0)\n",
            "Collecting h5py~=3.1.0\n",
            "  Using cached https://files.pythonhosted.org/packages/9d/74/9eae2bedd8201ab464308f42c601a12d79727a1c87f0c867fdefb212c6cf/h5py-3.1.0-cp37-cp37m-manylinux1_x86_64.whl\n",
            "Requirement already satisfied: termcolor~=1.1.0 in /usr/local/lib/python3.7/dist-packages (from tf-nightly) (1.1.0)\n",
            "Requirement already satisfied: google-pasta~=0.2 in /usr/local/lib/python3.7/dist-packages (from tf-nightly) (0.2.0)\n",
            "Requirement already satisfied: keras-preprocessing~=1.1.2 in /usr/local/lib/python3.7/dist-packages (from tf-nightly) (1.1.2)\n",
            "Requirement already satisfied: gast==0.4.0 in /usr/local/lib/python3.7/dist-packages (from tf-nightly) (0.4.0)\n",
            "Requirement already satisfied: opt-einsum~=3.3.0 in /usr/local/lib/python3.7/dist-packages (from tf-nightly) (3.3.0)\n",
            "Requirement already satisfied: wheel~=0.35 in /usr/local/lib/python3.7/dist-packages (from tf-nightly) (0.36.2)\n",
            "Requirement already satisfied: numpy~=1.19.2 in /usr/local/lib/python3.7/dist-packages (from tf-nightly) (1.19.5)\n",
            "Requirement already satisfied: six~=1.15.0 in /usr/local/lib/python3.7/dist-packages (from tf-nightly) (1.15.0)\n",
            "Requirement already satisfied: tf-estimator-nightly~=2.5.0.dev in /usr/local/lib/python3.7/dist-packages (from tf-nightly) (2.5.0.dev2021032601)\n",
            "Requirement already satisfied: setuptools>=41.0.0 in /usr/local/lib/python3.7/dist-packages (from tb-nightly~=2.6.0.a->tf-nightly) (57.0.0)\n",
            "Requirement already satisfied: markdown>=2.6.8 in /usr/local/lib/python3.7/dist-packages (from tb-nightly~=2.6.0.a->tf-nightly) (3.3.4)\n",
            "Requirement already satisfied: werkzeug>=0.11.15 in /usr/local/lib/python3.7/dist-packages (from tb-nightly~=2.6.0.a->tf-nightly) (1.0.1)\n",
            "Requirement already satisfied: tensorboard-plugin-wit>=1.6.0 in /usr/local/lib/python3.7/dist-packages (from tb-nightly~=2.6.0.a->tf-nightly) (1.8.0)\n",
            "Requirement already satisfied: requests<3,>=2.21.0 in /usr/local/lib/python3.7/dist-packages (from tb-nightly~=2.6.0.a->tf-nightly) (2.23.0)\n",
            "Requirement already satisfied: tensorboard-data-server<0.7.0,>=0.6.0 in /usr/local/lib/python3.7/dist-packages (from tb-nightly~=2.6.0.a->tf-nightly) (0.6.1)\n",
            "Requirement already satisfied: google-auth-oauthlib<0.5,>=0.4.1 in /usr/local/lib/python3.7/dist-packages (from tb-nightly~=2.6.0.a->tf-nightly) (0.4.4)\n",
            "Requirement already satisfied: google-auth<2,>=1.6.3 in /usr/local/lib/python3.7/dist-packages (from tb-nightly~=2.6.0.a->tf-nightly) (1.30.0)\n",
            "Requirement already satisfied: cached-property; python_version < \"3.8\" in /usr/local/lib/python3.7/dist-packages (from h5py~=3.1.0->tf-nightly) (1.5.2)\n",
            "Requirement already satisfied: importlib-metadata; python_version < \"3.8\" in /usr/local/lib/python3.7/dist-packages (from markdown>=2.6.8->tb-nightly~=2.6.0.a->tf-nightly) (4.0.1)\n",
            "Requirement already satisfied: urllib3!=1.25.0,!=1.25.1,<1.26,>=1.21.1 in /usr/local/lib/python3.7/dist-packages (from requests<3,>=2.21.0->tb-nightly~=2.6.0.a->tf-nightly) (1.24.3)\n",
            "Requirement already satisfied: certifi>=2017.4.17 in /usr/local/lib/python3.7/dist-packages (from requests<3,>=2.21.0->tb-nightly~=2.6.0.a->tf-nightly) (2020.12.5)\n",
            "Requirement already satisfied: idna<3,>=2.5 in /usr/local/lib/python3.7/dist-packages (from requests<3,>=2.21.0->tb-nightly~=2.6.0.a->tf-nightly) (2.10)\n",
            "Requirement already satisfied: chardet<4,>=3.0.2 in /usr/local/lib/python3.7/dist-packages (from requests<3,>=2.21.0->tb-nightly~=2.6.0.a->tf-nightly) (3.0.4)\n",
            "Requirement already satisfied: requests-oauthlib>=0.7.0 in /usr/local/lib/python3.7/dist-packages (from google-auth-oauthlib<0.5,>=0.4.1->tb-nightly~=2.6.0.a->tf-nightly) (1.3.0)\n",
            "Requirement already satisfied: pyasn1-modules>=0.2.1 in /usr/local/lib/python3.7/dist-packages (from google-auth<2,>=1.6.3->tb-nightly~=2.6.0.a->tf-nightly) (0.2.8)\n",
            "Requirement already satisfied: rsa<5,>=3.1.4; python_version >= \"3.6\" in /usr/local/lib/python3.7/dist-packages (from google-auth<2,>=1.6.3->tb-nightly~=2.6.0.a->tf-nightly) (4.7.2)\n",
            "Requirement already satisfied: cachetools<5.0,>=2.0.0 in /usr/local/lib/python3.7/dist-packages (from google-auth<2,>=1.6.3->tb-nightly~=2.6.0.a->tf-nightly) (4.2.2)\n",
            "Requirement already satisfied: zipp>=0.5 in /usr/local/lib/python3.7/dist-packages (from importlib-metadata; python_version < \"3.8\"->markdown>=2.6.8->tb-nightly~=2.6.0.a->tf-nightly) (3.4.1)\n",
            "Requirement already satisfied: oauthlib>=3.0.0 in /usr/local/lib/python3.7/dist-packages (from requests-oauthlib>=0.7.0->google-auth-oauthlib<0.5,>=0.4.1->tb-nightly~=2.6.0.a->tf-nightly) (3.1.0)\n",
            "Requirement already satisfied: pyasn1<0.5.0,>=0.4.6 in /usr/local/lib/python3.7/dist-packages (from pyasn1-modules>=0.2.1->google-auth<2,>=1.6.3->tb-nightly~=2.6.0.a->tf-nightly) (0.4.8)\n",
            "\u001b[31mERROR: tensorflow 2.5.0 has requirement grpcio~=1.34.0, but you'll have grpcio 1.38.0 which is incompatible.\u001b[0m\n",
            "\u001b[31mERROR: tensorflow 2.5.0 has requirement keras-nightly~=2.5.0.dev, but you'll have keras-nightly 2.6.0.dev2021061200 which is incompatible.\u001b[0m\n",
            "\u001b[31mERROR: deepctr 0.8.5 has requirement h5py==2.10.0, but you'll have h5py 3.1.0 which is incompatible.\u001b[0m\n",
            "Installing collected packages: h5py\n",
            "  Found existing installation: h5py 2.10.0\n",
            "    Uninstalling h5py-2.10.0:\n",
            "      Successfully uninstalled h5py-2.10.0\n",
            "Successfully installed h5py-3.1.0\n"
          ],
          "name": "stdout"
        },
        {
          "output_type": "display_data",
          "data": {
            "application/vnd.colab-display-data+json": {
              "pip_warning": {
                "packages": [
                  "h5py"
                ]
              }
            }
          },
          "metadata": {
            "tags": []
          }
        }
      ]
    },
    {
      "cell_type": "code",
      "metadata": {
        "id": "Drn1scXo8yeH"
      },
      "source": [
        "# relevant libraries\n",
        "import pandas as pd\n",
        "import numpy as np\n",
        "from sklearn.metrics import log_loss, roc_auc_score\n",
        "from sklearn.model_selection import train_test_split\n",
        "from sklearn.preprocessing import LabelEncoder, MinMaxScaler, StandardScaler\n",
        "from tqdm import tqdm\n",
        "import os \n",
        "from deepctr.models import *\n",
        "from deepctr.feature_column import SparseFeat, DenseFeat, get_feature_names\n",
        "import random\n",
        "import tensorflow as tf\n",
        "from tensorflow.keras.callbacks import EarlyStopping\n",
        "from collections.abc import Iterable"
      ],
      "execution_count": 117,
      "outputs": []
    },
    {
      "cell_type": "code",
      "metadata": {
        "colab": {
          "base_uri": "https://localhost:8080/"
        },
        "id": "rYyTLeWVPVHZ",
        "outputId": "0ad862af-382b-4f0e-a90f-d3d6429170ab"
      },
      "source": [
        "# num of CPUs\n",
        "import multiprocessing\n",
        "from multiprocessing import Pool\n",
        "multiprocessing.cpu_count()"
      ],
      "execution_count": 118,
      "outputs": [
        {
          "output_type": "execute_result",
          "data": {
            "text/plain": [
              "2"
            ]
          },
          "metadata": {
            "tags": []
          },
          "execution_count": 118
        }
      ]
    },
    {
      "cell_type": "markdown",
      "metadata": {
        "id": "zgP5Q8qAlzoZ"
      },
      "source": [
        "# Kaggle Dataset and Google Colab"
      ]
    },
    {
      "cell_type": "code",
      "metadata": {
        "colab": {
          "base_uri": "https://localhost:8080/",
          "height": 71
        },
        "id": "mhVYPfNBEgTh",
        "outputId": "8a171167-bd81-4525-9117-d3eb0e888711"
      },
      "source": [
        "# upload kaggle json permissions\n",
        "\"\"\"\n",
        "from google.colab import files\n",
        "\n",
        "uploaded = files.upload()\n",
        "\n",
        "for fn in uploaded.keys():\n",
        "  print('User uploaded file \"{name}\" with length {length} bytes'.format(\n",
        "      name=fn, length=len(uploaded[fn])))\n",
        "  \n",
        "# Then move kaggle.json into the folder where the API expects to find it.\n",
        "!mkdir -p ~/.kaggle/ && mv kaggle.json ~/.kaggle/ && chmod 600 ~/.kaggle/kaggle.json\n",
        "\"\"\""
      ],
      "execution_count": 119,
      "outputs": [
        {
          "output_type": "execute_result",
          "data": {
            "application/vnd.google.colaboratory.intrinsic+json": {
              "type": "string"
            },
            "text/plain": [
              "'\\nfrom google.colab import files\\n\\nuploaded = files.upload()\\n\\nfor fn in uploaded.keys():\\n  print(\\'User uploaded file \"{name}\" with length {length} bytes\\'.format(\\n      name=fn, length=len(uploaded[fn])))\\n  \\n# Then move kaggle.json into the folder where the API expects to find it.\\n!mkdir -p ~/.kaggle/ && mv kaggle.json ~/.kaggle/ && chmod 600 ~/.kaggle/kaggle.json\\n'"
            ]
          },
          "metadata": {
            "tags": []
          },
          "execution_count": 119
        }
      ]
    },
    {
      "cell_type": "code",
      "metadata": {
        "colab": {
          "base_uri": "https://localhost:8080/"
        },
        "id": "l1kMocJeP7rY",
        "outputId": "0f35362d-48f6-44a0-9f0a-deda5c100990"
      },
      "source": [
        "# google colab\n",
        "from google.colab import drive\n",
        "drive.mount('/content/drive')"
      ],
      "execution_count": 120,
      "outputs": [
        {
          "output_type": "stream",
          "text": [
            "Drive already mounted at /content/drive; to attempt to forcibly remount, call drive.mount(\"/content/drive\", force_remount=True).\n"
          ],
          "name": "stdout"
        }
      ]
    },
    {
      "cell_type": "code",
      "metadata": {
        "id": "FMY5gedTEoQH"
      },
      "source": [
        "# download kaggle dataset\n",
        "#!kaggle competitions download -c bgu-recsys-ctr-prediction -p drive/MyDrive/RecSysKaggle/ \n",
        "#!unzip bgu-recsys-ctr-prediction.zip"
      ],
      "execution_count": 121,
      "outputs": []
    },
    {
      "cell_type": "code",
      "metadata": {
        "colab": {
          "base_uri": "https://localhost:8080/"
        },
        "id": "Tfs_05n2Yt1T",
        "outputId": "eeeb74d5-59f8-4256-fa2a-1f50519e13fe"
      },
      "source": [
        "# change directory to dataset dir\n",
        "%cd  drive/MyDrive/RecSysKaggle/ "
      ],
      "execution_count": 122,
      "outputs": [
        {
          "output_type": "stream",
          "text": [
            "[Errno 2] No such file or directory: 'drive/MyDrive/RecSysKaggle/'\n",
            "/content/drive/MyDrive/RecSysKaggle\n"
          ],
          "name": "stdout"
        }
      ]
    },
    {
      "cell_type": "code",
      "metadata": {
        "id": "Ikj4mS7iITSN"
      },
      "source": [
        "# all files names\n",
        "INPUT_DATA_DIR = \"train_data\"\n",
        "\n",
        "files = []\n",
        "\n",
        "for (dirpath, dirnames, filenames) in os.walk(INPUT_DATA_DIR):\n",
        "  if filenames:\n",
        "    for filename in filenames:\n",
        "      files.append(os.path.join(dirpath, filename))"
      ],
      "execution_count": 123,
      "outputs": []
    },
    {
      "cell_type": "markdown",
      "metadata": {
        "id": "gX7rCOR3i0UB"
      },
      "source": [
        "# Memory Usage"
      ]
    },
    {
      "cell_type": "code",
      "metadata": {
        "id": "RzNiO0sqi1tx"
      },
      "source": [
        "# print memory usage of objects\n",
        "def mem_usage(pandas_obj):\n",
        "    # if it's Df\n",
        "    if isinstance(pandas_obj, pd.DataFrame):\n",
        "        usage_b = pandas_obj.memory_usage(deep=True).sum()\n",
        "    #if not a df it's a series\n",
        "    else: \n",
        "        usage_b = pandas_obj.memory_usage(deep=True)\n",
        "    usage_mb = usage_b / 1024 ** 2 # convert bytes to megabytes\n",
        "    print(\"{:03.2f} MB\".format(usage_mb))"
      ],
      "execution_count": 124,
      "outputs": []
    },
    {
      "cell_type": "code",
      "metadata": {
        "id": "2f1uHB22kdvK"
      },
      "source": [
        "# Optimize memory usage - transform object columns into int, \n",
        "# float and object in order to reduce memory usage\n",
        "def optimize_df(df):\n",
        "  optimized_df = df.copy()\n",
        "\n",
        "  columns_float = df.select_dtypes(include=['float'])\n",
        "  converted_float = columns_float.apply(pd.to_numeric,downcast='float')\n",
        "  optimized_df[converted_float.columns] = converted_float\n",
        "\n",
        "  columns_int = df.select_dtypes(include=['int'])\n",
        "  converted_int = columns_int.apply(pd.to_numeric, downcast='unsigned')\n",
        "  optimized_df[converted_int.columns] = converted_int\n",
        "\n",
        "  columns_obj = df.select_dtypes(include=['object']).copy()\n",
        "  converted_obj = pd.DataFrame()\n",
        "  for col in columns_obj.columns:\n",
        "      converted_obj.loc[:,col] = columns_obj[col]\n",
        "\n",
        "  optimized_df[converted_obj.columns] = converted_obj\n",
        "\n",
        "  return optimized_df"
      ],
      "execution_count": 125,
      "outputs": []
    },
    {
      "cell_type": "markdown",
      "metadata": {
        "id": "2c7tmNXdl6cR"
      },
      "source": [
        "# Preparation"
      ]
    },
    {
      "cell_type": "code",
      "metadata": {
        "id": "9h6fZ-AGn_XL"
      },
      "source": [
        "# load and optimize Df\n",
        "def load_optimize_df(csv_path):\n",
        "  rca_df = pd.read_csv(csv_path)\n",
        "  optimized_df = optimize_df(rca_df)\n",
        "  return optimized_df"
      ],
      "execution_count": 126,
      "outputs": []
    },
    {
      "cell_type": "code",
      "metadata": {
        "id": "-wnKKKFqSNAE"
      },
      "source": [
        "# set sparse, dense and target deatures for the DeepFM model\n",
        "sparse_features = ['target_id_hash',\t'syndicator_id_hash',\n",
        "                   'campaign_id_hash',\t'target_item_taxonomy',\n",
        "                   'placement_id_hash',\t'publisher_id_hash',\n",
        "                   'source_id_hash',\t'source_item_type',\n",
        "                   'browser_platform', 'country_code',\n",
        "                   'region', 'day_of_week','time_of_day', \"os_family\"]\n",
        "\n",
        "dense_features = ['empiric_calibrated_recs',\n",
        "                  'empiric_clicks',\t'user_recs',\t'user_clicks',\n",
        "                  'user_target_recs']\n",
        "\n",
        "target = ['is_click']"
      ],
      "execution_count": 170,
      "outputs": []
    },
    {
      "cell_type": "markdown",
      "metadata": {
        "id": "z7IXNEBfaVSY"
      },
      "source": [
        "# Load Data"
      ]
    },
    {
      "cell_type": "code",
      "metadata": {
        "id": "36BFan7Za3F1"
      },
      "source": [
        "data = pd.DataFrame(columns=['page_view_start_time', 'user_id_hash', 'target_id_hash',\n",
        "       'syndicator_id_hash', 'campaign_id_hash', 'empiric_calibrated_recs',\n",
        "       'empiric_clicks', 'target_item_taxonomy', 'placement_id_hash',\n",
        "       'user_recs', 'user_clicks', 'user_target_recs', 'publisher_id_hash',\n",
        "       'source_id_hash', 'source_item_type', 'browser_platform', 'os_family',\n",
        "       'country_code', 'region', 'day_of_week', 'time_of_day', 'gmt_offset',\n",
        "       'is_click'])"
      ],
      "execution_count": 128,
      "outputs": []
    },
    {
      "cell_type": "code",
      "metadata": {
        "id": "NezWS79jaWkN"
      },
      "source": [
        "# read random 10 files into memory\n",
        "rand_files = random.choices(files, k=10)\n",
        "for f in rand_files:\n",
        "  data = data.append(load_optimize_df(f), ignore_index=True)"
      ],
      "execution_count": 129,
      "outputs": []
    },
    {
      "cell_type": "code",
      "metadata": {
        "id": "Twh5aKDYawEJ"
      },
      "source": [
        "# Read test data into memory\n",
        "basepath_test = \"test_file.csv\"\n",
        "rca_df_test = load_optimize_df(basepath_test)"
      ],
      "execution_count": 130,
      "outputs": []
    },
    {
      "cell_type": "markdown",
      "metadata": {
        "id": "vH8LjJGgccwV"
      },
      "source": [
        "# Exploration"
      ]
    },
    {
      "cell_type": "code",
      "metadata": {
        "colab": {
          "base_uri": "https://localhost:8080/"
        },
        "id": "3Lp6IH0ec-rG",
        "outputId": "85a1a2fb-4f0c-435b-a75e-d5b73a1ec41b"
      },
      "source": [
        "# find variables type and memory usage\n",
        "data.info(memory_usage='deep')"
      ],
      "execution_count": 131,
      "outputs": [
        {
          "output_type": "stream",
          "text": [
            "<class 'pandas.core.frame.DataFrame'>\n",
            "RangeIndex: 4336831 entries, 0 to 4336830\n",
            "Data columns (total 23 columns):\n",
            " #   Column                   Dtype  \n",
            "---  ------                   -----  \n",
            " 0   page_view_start_time     object \n",
            " 1   user_id_hash             object \n",
            " 2   target_id_hash           object \n",
            " 3   syndicator_id_hash       object \n",
            " 4   campaign_id_hash         object \n",
            " 5   empiric_calibrated_recs  float32\n",
            " 6   empiric_clicks           float32\n",
            " 7   target_item_taxonomy     object \n",
            " 8   placement_id_hash        object \n",
            " 9   user_recs                float32\n",
            " 10  user_clicks              float32\n",
            " 11  user_target_recs         float32\n",
            " 12  publisher_id_hash        object \n",
            " 13  source_id_hash           object \n",
            " 14  source_item_type         object \n",
            " 15  browser_platform         object \n",
            " 16  os_family                object \n",
            " 17  country_code             object \n",
            " 18  region                   object \n",
            " 19  day_of_week              object \n",
            " 20  time_of_day              object \n",
            " 21  gmt_offset               object \n",
            " 22  is_click                 float32\n",
            "dtypes: float32(6), object(17)\n",
            "memory usage: 7.3 GB\n"
          ],
          "name": "stdout"
        }
      ]
    },
    {
      "cell_type": "code",
      "metadata": {
        "colab": {
          "base_uri": "https://localhost:8080/",
          "height": 294
        },
        "id": "pJW7IvDIceJ9",
        "outputId": "3953c3ec-cd3e-4602-b58e-592a4223c4b7"
      },
      "source": [
        "# describe numeric values (dense)\n",
        "data.describe()"
      ],
      "execution_count": 132,
      "outputs": [
        {
          "output_type": "execute_result",
          "data": {
            "text/html": [
              "<div>\n",
              "<style scoped>\n",
              "    .dataframe tbody tr th:only-of-type {\n",
              "        vertical-align: middle;\n",
              "    }\n",
              "\n",
              "    .dataframe tbody tr th {\n",
              "        vertical-align: top;\n",
              "    }\n",
              "\n",
              "    .dataframe thead th {\n",
              "        text-align: right;\n",
              "    }\n",
              "</style>\n",
              "<table border=\"1\" class=\"dataframe\">\n",
              "  <thead>\n",
              "    <tr style=\"text-align: right;\">\n",
              "      <th></th>\n",
              "      <th>empiric_calibrated_recs</th>\n",
              "      <th>empiric_clicks</th>\n",
              "      <th>user_recs</th>\n",
              "      <th>user_clicks</th>\n",
              "      <th>user_target_recs</th>\n",
              "      <th>is_click</th>\n",
              "    </tr>\n",
              "  </thead>\n",
              "  <tbody>\n",
              "    <tr>\n",
              "      <th>count</th>\n",
              "      <td>4.336831e+06</td>\n",
              "      <td>4.336831e+06</td>\n",
              "      <td>4.336831e+06</td>\n",
              "      <td>4.336831e+06</td>\n",
              "      <td>4.336831e+06</td>\n",
              "      <td>4.336831e+06</td>\n",
              "    </tr>\n",
              "    <tr>\n",
              "      <th>mean</th>\n",
              "      <td>2.817431e+04</td>\n",
              "      <td>2.476885e+04</td>\n",
              "      <td>3.694630e+02</td>\n",
              "      <td>1.815026e+01</td>\n",
              "      <td>7.335820e-01</td>\n",
              "      <td>4.998775e-01</td>\n",
              "    </tr>\n",
              "    <tr>\n",
              "      <th>std</th>\n",
              "      <td>6.730406e+04</td>\n",
              "      <td>4.491552e+04</td>\n",
              "      <td>3.920130e+02</td>\n",
              "      <td>3.734223e+01</td>\n",
              "      <td>2.903210e+00</td>\n",
              "      <td>5.000001e-01</td>\n",
              "    </tr>\n",
              "    <tr>\n",
              "      <th>min</th>\n",
              "      <td>0.000000e+00</td>\n",
              "      <td>0.000000e+00</td>\n",
              "      <td>0.000000e+00</td>\n",
              "      <td>0.000000e+00</td>\n",
              "      <td>0.000000e+00</td>\n",
              "      <td>0.000000e+00</td>\n",
              "    </tr>\n",
              "    <tr>\n",
              "      <th>25%</th>\n",
              "      <td>7.632475e+02</td>\n",
              "      <td>1.313000e+03</td>\n",
              "      <td>3.600000e+01</td>\n",
              "      <td>0.000000e+00</td>\n",
              "      <td>0.000000e+00</td>\n",
              "      <td>0.000000e+00</td>\n",
              "    </tr>\n",
              "    <tr>\n",
              "      <th>50%</th>\n",
              "      <td>4.446949e+03</td>\n",
              "      <td>6.946000e+03</td>\n",
              "      <td>3.190000e+02</td>\n",
              "      <td>3.000000e+00</td>\n",
              "      <td>0.000000e+00</td>\n",
              "      <td>0.000000e+00</td>\n",
              "    </tr>\n",
              "    <tr>\n",
              "      <th>75%</th>\n",
              "      <td>2.096276e+04</td>\n",
              "      <td>2.691800e+04</td>\n",
              "      <td>5.310000e+02</td>\n",
              "      <td>1.900000e+01</td>\n",
              "      <td>0.000000e+00</td>\n",
              "      <td>1.000000e+00</td>\n",
              "    </tr>\n",
              "    <tr>\n",
              "      <th>max</th>\n",
              "      <td>1.096955e+06</td>\n",
              "      <td>7.698390e+05</td>\n",
              "      <td>7.675000e+03</td>\n",
              "      <td>1.000000e+03</td>\n",
              "      <td>1.000000e+02</td>\n",
              "      <td>1.000000e+00</td>\n",
              "    </tr>\n",
              "  </tbody>\n",
              "</table>\n",
              "</div>"
            ],
            "text/plain": [
              "       empiric_calibrated_recs  empiric_clicks  ...  user_target_recs      is_click\n",
              "count             4.336831e+06    4.336831e+06  ...      4.336831e+06  4.336831e+06\n",
              "mean              2.817431e+04    2.476885e+04  ...      7.335820e-01  4.998775e-01\n",
              "std               6.730406e+04    4.491552e+04  ...      2.903210e+00  5.000001e-01\n",
              "min               0.000000e+00    0.000000e+00  ...      0.000000e+00  0.000000e+00\n",
              "25%               7.632475e+02    1.313000e+03  ...      0.000000e+00  0.000000e+00\n",
              "50%               4.446949e+03    6.946000e+03  ...      0.000000e+00  0.000000e+00\n",
              "75%               2.096276e+04    2.691800e+04  ...      0.000000e+00  1.000000e+00\n",
              "max               1.096955e+06    7.698390e+05  ...      1.000000e+02  1.000000e+00\n",
              "\n",
              "[8 rows x 6 columns]"
            ]
          },
          "metadata": {
            "tags": []
          },
          "execution_count": 132
        }
      ]
    },
    {
      "cell_type": "code",
      "metadata": {
        "colab": {
          "base_uri": "https://localhost:8080/",
          "height": 191
        },
        "id": "8sz5mwhqdrhg",
        "outputId": "00be45ce-d232-4fd3-e0d9-5c712108b660"
      },
      "source": [
        "# describe categorical values (sparse)\n",
        "data.describe(include=object)"
      ],
      "execution_count": 133,
      "outputs": [
        {
          "output_type": "execute_result",
          "data": {
            "text/html": [
              "<div>\n",
              "<style scoped>\n",
              "    .dataframe tbody tr th:only-of-type {\n",
              "        vertical-align: middle;\n",
              "    }\n",
              "\n",
              "    .dataframe tbody tr th {\n",
              "        vertical-align: top;\n",
              "    }\n",
              "\n",
              "    .dataframe thead th {\n",
              "        text-align: right;\n",
              "    }\n",
              "</style>\n",
              "<table border=\"1\" class=\"dataframe\">\n",
              "  <thead>\n",
              "    <tr style=\"text-align: right;\">\n",
              "      <th></th>\n",
              "      <th>page_view_start_time</th>\n",
              "      <th>user_id_hash</th>\n",
              "      <th>target_id_hash</th>\n",
              "      <th>syndicator_id_hash</th>\n",
              "      <th>campaign_id_hash</th>\n",
              "      <th>target_item_taxonomy</th>\n",
              "      <th>placement_id_hash</th>\n",
              "      <th>publisher_id_hash</th>\n",
              "      <th>source_id_hash</th>\n",
              "      <th>source_item_type</th>\n",
              "      <th>browser_platform</th>\n",
              "      <th>os_family</th>\n",
              "      <th>country_code</th>\n",
              "      <th>region</th>\n",
              "      <th>day_of_week</th>\n",
              "      <th>time_of_day</th>\n",
              "      <th>gmt_offset</th>\n",
              "    </tr>\n",
              "  </thead>\n",
              "  <tbody>\n",
              "    <tr>\n",
              "      <th>count</th>\n",
              "      <td>4336831</td>\n",
              "      <td>4336831</td>\n",
              "      <td>4336831</td>\n",
              "      <td>4336831</td>\n",
              "      <td>4336831</td>\n",
              "      <td>4336831</td>\n",
              "      <td>4336831</td>\n",
              "      <td>4336831</td>\n",
              "      <td>4336831</td>\n",
              "      <td>4336831</td>\n",
              "      <td>4336831</td>\n",
              "      <td>4336831</td>\n",
              "      <td>4336735</td>\n",
              "      <td>4336717</td>\n",
              "      <td>4336831</td>\n",
              "      <td>4336831</td>\n",
              "      <td>4336831</td>\n",
              "    </tr>\n",
              "    <tr>\n",
              "      <th>unique</th>\n",
              "      <td>3852911</td>\n",
              "      <td>3263525</td>\n",
              "      <td>57887</td>\n",
              "      <td>2499</td>\n",
              "      <td>20708</td>\n",
              "      <td>65</td>\n",
              "      <td>1420</td>\n",
              "      <td>3</td>\n",
              "      <td>108318</td>\n",
              "      <td>5</td>\n",
              "      <td>4</td>\n",
              "      <td>7</td>\n",
              "      <td>287</td>\n",
              "      <td>1299</td>\n",
              "      <td>7</td>\n",
              "      <td>24</td>\n",
              "      <td>36</td>\n",
              "    </tr>\n",
              "    <tr>\n",
              "      <th>top</th>\n",
              "      <td>1587068820742</td>\n",
              "      <td>93324a34d6a62819cf333a77aca0f9a9b21983a7f091d5...</td>\n",
              "      <td>a121414eede8630b38ec7368707f9ef8771616118bf3c1...</td>\n",
              "      <td>139d1b7d4e3d66843ff0fffcda0e073a5a7b0ec050338b...</td>\n",
              "      <td>55e54997c2099f1eed1084a1f14698c20d33ef71da31f1...</td>\n",
              "      <td>BUSINESS</td>\n",
              "      <td>f46a38c5c8d89917121df61f7a725748354c47dfc79cfe...</td>\n",
              "      <td>848b127dbd0f3a647581f4a95325f5204f4577ad7956f6...</td>\n",
              "      <td>c83159630182a5b7bc3c3fc985156c03b2a43129d63376...</td>\n",
              "      <td>text</td>\n",
              "      <td>DESK</td>\n",
              "      <td>6</td>\n",
              "      <td>US</td>\n",
              "      <td>CA</td>\n",
              "      <td>1</td>\n",
              "      <td>9</td>\n",
              "      <td>-400</td>\n",
              "    </tr>\n",
              "    <tr>\n",
              "      <th>freq</th>\n",
              "      <td>6</td>\n",
              "      <td>56</td>\n",
              "      <td>56114</td>\n",
              "      <td>137428</td>\n",
              "      <td>101008</td>\n",
              "      <td>775408</td>\n",
              "      <td>223001</td>\n",
              "      <td>2152734</td>\n",
              "      <td>1107899</td>\n",
              "      <td>1890478</td>\n",
              "      <td>3844502</td>\n",
              "      <td>3659613</td>\n",
              "      <td>4205553</td>\n",
              "      <td>385831</td>\n",
              "      <td>744597</td>\n",
              "      <td>313073</td>\n",
              "      <td>2041766</td>\n",
              "    </tr>\n",
              "  </tbody>\n",
              "</table>\n",
              "</div>"
            ],
            "text/plain": [
              "        page_view_start_time  ... gmt_offset\n",
              "count                4336831  ...    4336831\n",
              "unique               3852911  ...         36\n",
              "top            1587068820742  ...       -400\n",
              "freq                       6  ...    2041766\n",
              "\n",
              "[4 rows x 17 columns]"
            ]
          },
          "metadata": {
            "tags": []
          },
          "execution_count": 133
        }
      ]
    },
    {
      "cell_type": "code",
      "metadata": {
        "colab": {
          "base_uri": "https://localhost:8080/",
          "height": 551
        },
        "id": "VwDL1AVLeAgG",
        "outputId": "6c1a0238-2d17-4d8e-ce6a-0fe39bb8a84c"
      },
      "source": [
        "# Explore num of clicks as function of time of day\n",
        "imp = data.groupby(['time_of_day', 'is_click']).size().unstack()\n",
        "plt.figure()\n",
        "imp.plot(kind='bar', title=\"Day hours\", figsize=(16,8))\n",
        "plt.ylabel(\"count of clicks\")\n",
        "plt.plot()"
      ],
      "execution_count": 134,
      "outputs": [
        {
          "output_type": "execute_result",
          "data": {
            "text/plain": [
              "[]"
            ]
          },
          "metadata": {
            "tags": []
          },
          "execution_count": 134
        },
        {
          "output_type": "display_data",
          "data": {
            "text/plain": [
              "<Figure size 432x288 with 0 Axes>"
            ]
          },
          "metadata": {
            "tags": []
          }
        },
        {
          "output_type": "display_data",
          "data": {
            "image/png": "[encoded data removed]",
            "text/plain": [
              "<Figure size 1152x576 with 1 Axes>"
            ]
          },
          "metadata": {
            "tags": [],
            "needs_background": "light"
          }
        }
      ]
    },
    {
      "cell_type": "code",
      "metadata": {
        "colab": {
          "base_uri": "https://localhost:8080/",
          "height": 545
        },
        "id": "daK9MfEkeSPd",
        "outputId": "3bcd99b3-f95a-480b-ce1d-a69efba46db2"
      },
      "source": [
        "# Explore num of clicks as function of days\n",
        "imp = data.groupby(['day_of_week', 'is_click']).size().unstack()\n",
        "plt.figure()\n",
        "imp.plot(kind='bar', title=\"Day\", figsize=(16,8))\n",
        "plt.ylabel(\"count of clicks\")\n",
        "plt.plot()"
      ],
      "execution_count": 135,
      "outputs": [
        {
          "output_type": "execute_result",
          "data": {
            "text/plain": [
              "[]"
            ]
          },
          "metadata": {
            "tags": []
          },
          "execution_count": 135
        },
        {
          "output_type": "display_data",
          "data": {
            "text/plain": [
              "<Figure size 432x288 with 0 Axes>"
            ]
          },
          "metadata": {
            "tags": []
          }
        },
        {
          "output_type": "display_data",
          "data": {
            "image/png": "[encoded data removed]",
            "text/plain": [
              "<Figure size 1152x576 with 1 Axes>"
            ]
          },
          "metadata": {
            "tags": [],
            "needs_background": "light"
          }
        }
      ]
    },
    {
      "cell_type": "code",
      "metadata": {
        "id": "i_-YIyuye7S_",
        "outputId": "7ecce13d-6683-4774-88a1-a13cc46384ff",
        "colab": {
          "base_uri": "https://localhost:8080/",
          "height": 545
        }
      },
      "source": [
        "# Explore num of clicks as function of operating system\n",
        "imp = data.groupby(['os_family', 'is_click']).size().unstack()\n",
        "plt.figure()\n",
        "imp.plot(kind='bar', title=\"Os Family\", figsize=(16,8))\n",
        "plt.ylabel(\"count of clicks\")\n",
        "plt.plot()"
      ],
      "execution_count": 136,
      "outputs": [
        {
          "output_type": "execute_result",
          "data": {
            "text/plain": [
              "[]"
            ]
          },
          "metadata": {
            "tags": []
          },
          "execution_count": 136
        },
        {
          "output_type": "display_data",
          "data": {
            "text/plain": [
              "<Figure size 432x288 with 0 Axes>"
            ]
          },
          "metadata": {
            "tags": []
          }
        },
        {
          "output_type": "display_data",
          "data": {
            "image/png": "[encoded data removed]",
            "text/plain": [
              "<Figure size 1152x576 with 1 Axes>"
            ]
          },
          "metadata": {
            "tags": [],
            "needs_background": "light"
          }
        }
      ]
    },
    {
      "cell_type": "code",
      "metadata": {
        "id": "AwTEbXSFfBll",
        "outputId": "af945033-8ebd-4cbf-a59a-7f76127f3565",
        "colab": {
          "base_uri": "https://localhost:8080/",
          "height": 567
        }
      },
      "source": [
        "# Explore num of clicks as function of browser platform\n",
        "imp = data.groupby(['browser_platform', 'is_click']).size().unstack()\n",
        "plt.figure()\n",
        "imp.plot(kind='bar', title=\"Browser platform\", figsize=(16,8))\n",
        "plt.ylabel(\"count of clicks\")\n",
        "plt.plot()"
      ],
      "execution_count": 137,
      "outputs": [
        {
          "output_type": "execute_result",
          "data": {
            "text/plain": [
              "[]"
            ]
          },
          "metadata": {
            "tags": []
          },
          "execution_count": 137
        },
        {
          "output_type": "display_data",
          "data": {
            "text/plain": [
              "<Figure size 432x288 with 0 Axes>"
            ]
          },
          "metadata": {
            "tags": []
          }
        },
        {
          "output_type": "display_data",
          "data": {
            "image/png": "[encoded data removed]",
            "text/plain": [
              "<Figure size 1152x576 with 1 Axes>"
            ]
          },
          "metadata": {
            "tags": [],
            "needs_background": "light"
          }
        }
      ]
    },
    {
      "cell_type": "code",
      "metadata": {
        "id": "tmGs53G2gNed",
        "outputId": "50a06ad0-1c00-4f68-e00b-93950ca7e4b1",
        "colab": {
          "base_uri": "https://localhost:8080/"
        }
      },
      "source": [
        "# Intersection users between test and train \n",
        "print(f'Users intersections : {len(set(rca_df_test[\"user_id_hash\"].unique()).intersection(set(data[\"user_id_hash\"].unique())))}')\n",
        "print(f'train : {len(set(data[\"user_id_hash\"].unique()))}')\n",
        "print(f'test: {len(set(rca_df_test[\"user_id_hash\"].unique()))}')"
      ],
      "execution_count": 143,
      "outputs": [
        {
          "output_type": "stream",
          "text": [
            "Users intersections : 0\n",
            "train : 3263525\n",
            "test: 422613\n"
          ],
          "name": "stdout"
        }
      ]
    },
    {
      "cell_type": "markdown",
      "metadata": {
        "id": "1hwJeRAnqajI"
      },
      "source": [
        "As we can see, there are 0 intersections of users between train and test sets, \n",
        "So we decided to remove this column from the datasets."
      ]
    },
    {
      "cell_type": "code",
      "metadata": {
        "id": "OgZ-b2-pgoO4",
        "outputId": "baa7c03e-3e33-4faf-9f5d-5b5706aba221",
        "colab": {
          "base_uri": "https://localhost:8080/"
        }
      },
      "source": [
        "# Intersection item between test and train \n",
        "print(f'Target intersections : {len(set(rca_df_test[\"target_id_hash\"].unique()).intersection(set(data[\"target_id_hash\"].unique())))}')\n",
        "print(f'train : {len(set(data[\"target_id_hash\"].unique()))}')\n",
        "print(f'test: {len(set(rca_df_test[\"target_id_hash\"].unique()))}')"
      ],
      "execution_count": 144,
      "outputs": [
        {
          "output_type": "stream",
          "text": [
            "Target intersections : 12086\n",
            "train : 57887\n",
            "test: 15303\n"
          ],
          "name": "stdout"
        }
      ]
    },
    {
      "cell_type": "markdown",
      "metadata": {
        "id": "4WJ4TM-YhKC3"
      },
      "source": [
        "# Split train validation"
      ]
    },
    {
      "cell_type": "code",
      "metadata": {
        "id": "FYgalbvchOoH",
        "outputId": "2df70409-df4a-47b7-e937-a6d295594af3",
        "colab": {
          "base_uri": "https://localhost:8080/",
          "height": 434
        }
      },
      "source": [
        "# take only records with targets that exist in test set\n",
        "data_filtered = data[data[\"target_id_hash\"].isin(rca_df_test[\"target_id_hash\"].unique())]\n",
        "data_filtered"
      ],
      "execution_count": 145,
      "outputs": [
        {
          "output_type": "execute_result",
          "data": {
            "text/html": [
              "<div>\n",
              "<style scoped>\n",
              "    .dataframe tbody tr th:only-of-type {\n",
              "        vertical-align: middle;\n",
              "    }\n",
              "\n",
              "    .dataframe tbody tr th {\n",
              "        vertical-align: top;\n",
              "    }\n",
              "\n",
              "    .dataframe thead th {\n",
              "        text-align: right;\n",
              "    }\n",
              "</style>\n",
              "<table border=\"1\" class=\"dataframe\">\n",
              "  <thead>\n",
              "    <tr style=\"text-align: right;\">\n",
              "      <th></th>\n",
              "      <th>page_view_start_time</th>\n",
              "      <th>user_id_hash</th>\n",
              "      <th>target_id_hash</th>\n",
              "      <th>syndicator_id_hash</th>\n",
              "      <th>campaign_id_hash</th>\n",
              "      <th>empiric_calibrated_recs</th>\n",
              "      <th>empiric_clicks</th>\n",
              "      <th>target_item_taxonomy</th>\n",
              "      <th>placement_id_hash</th>\n",
              "      <th>user_recs</th>\n",
              "      <th>user_clicks</th>\n",
              "      <th>user_target_recs</th>\n",
              "      <th>publisher_id_hash</th>\n",
              "      <th>source_id_hash</th>\n",
              "      <th>source_item_type</th>\n",
              "      <th>browser_platform</th>\n",
              "      <th>os_family</th>\n",
              "      <th>country_code</th>\n",
              "      <th>region</th>\n",
              "      <th>day_of_week</th>\n",
              "      <th>time_of_day</th>\n",
              "      <th>gmt_offset</th>\n",
              "      <th>is_click</th>\n",
              "    </tr>\n",
              "  </thead>\n",
              "  <tbody>\n",
              "    <tr>\n",
              "      <th>0</th>\n",
              "      <td>1586664815841</td>\n",
              "      <td>55a1455382d08e01513b1abd95faa2adbb806987ec55a5...</td>\n",
              "      <td>c43ba981103d404347297f9f29f8976162f100ecff1d5a...</td>\n",
              "      <td>a31e99d37753a5d6b7ac7a0f2d2824b44fb52dfb673da7...</td>\n",
              "      <td>8b835bd2050a9f5a33eaa9715380614de4e046cdc1f714...</td>\n",
              "      <td>605.884094</td>\n",
              "      <td>5343.0</td>\n",
              "      <td>ENTERTAINMENT</td>\n",
              "      <td>c6c97bd91dab8077617305d4dc9be2c1dfe6aba106f08b...</td>\n",
              "      <td>589.0</td>\n",
              "      <td>23.0</td>\n",
              "      <td>0.0</td>\n",
              "      <td>c29a980222a2a97b74ffbd067f2a4ce760e3e8d8f02494...</td>\n",
              "      <td>4c7987d659b97d2007c45bb3c9fd903b135a2ef18130f7...</td>\n",
              "      <td>homepage</td>\n",
              "      <td>DESK</td>\n",
              "      <td>5</td>\n",
              "      <td>US</td>\n",
              "      <td>OH</td>\n",
              "      <td>0</td>\n",
              "      <td>0</td>\n",
              "      <td>-400</td>\n",
              "      <td>1.0</td>\n",
              "    </tr>\n",
              "    <tr>\n",
              "      <th>2</th>\n",
              "      <td>1587045094042</td>\n",
              "      <td>6884bd54651d71fd3b74e1c255b00cdda7fa7440927b4c...</td>\n",
              "      <td>80f737e0fa8dadcef1d34f9713461f2197b5de98d7edeb...</td>\n",
              "      <td>733eae957fba25a060d9b28810ea6edb9b5e2a9d2d7241...</td>\n",
              "      <td>e43d166e8197a299bf9c3d8ea0212de19464bbea94d9b4...</td>\n",
              "      <td>643.830566</td>\n",
              "      <td>1926.0</td>\n",
              "      <td>LIFE~FASHION</td>\n",
              "      <td>39d46cdd8f08693dd0cb967d016efec97d0bc5eb1899dc...</td>\n",
              "      <td>534.0</td>\n",
              "      <td>60.0</td>\n",
              "      <td>0.0</td>\n",
              "      <td>f8a7ba9b7c9b05464ee98daac522b3f3d2376453c70e57...</td>\n",
              "      <td>c83159630182a5b7bc3c3fc985156c03b2a43129d63376...</td>\n",
              "      <td>homepage</td>\n",
              "      <td>DESK</td>\n",
              "      <td>6</td>\n",
              "      <td>US</td>\n",
              "      <td>IN</td>\n",
              "      <td>4</td>\n",
              "      <td>9</td>\n",
              "      <td>-400</td>\n",
              "      <td>1.0</td>\n",
              "    </tr>\n",
              "    <tr>\n",
              "      <th>3</th>\n",
              "      <td>1586734980254</td>\n",
              "      <td>66ab17555d1cb38cbbd8b154b034df23e7e53aed1223b5...</td>\n",
              "      <td>dcf49550cf5b77473b2cb0f469a26769dee4b9de4885a6...</td>\n",
              "      <td>e4e85541c71dc9597b379e26645275b2c66edc43f71173...</td>\n",
              "      <td>0c85ca153e3f26ccb21e18166d7fc4790ef457649a60e5...</td>\n",
              "      <td>23920.115234</td>\n",
              "      <td>38538.0</td>\n",
              "      <td>LIFE~HEALTH</td>\n",
              "      <td>1fd7638e7057ac3ca2507f63cd5ac719375386f51a15b1...</td>\n",
              "      <td>2.0</td>\n",
              "      <td>0.0</td>\n",
              "      <td>0.0</td>\n",
              "      <td>f8a7ba9b7c9b05464ee98daac522b3f3d2376453c70e57...</td>\n",
              "      <td>c83159630182a5b7bc3c3fc985156c03b2a43129d63376...</td>\n",
              "      <td>homepage</td>\n",
              "      <td>DESK</td>\n",
              "      <td>6</td>\n",
              "      <td>US</td>\n",
              "      <td>OH</td>\n",
              "      <td>0</td>\n",
              "      <td>19</td>\n",
              "      <td>-400</td>\n",
              "      <td>1.0</td>\n",
              "    </tr>\n",
              "    <tr>\n",
              "      <th>6</th>\n",
              "      <td>1587219481558</td>\n",
              "      <td>47632ec8623e4d29351e9c391c499eb8a79ea3aeb80d47...</td>\n",
              "      <td>21c722fb4782340927ee0da0d48d48342af47dee7b0ccf...</td>\n",
              "      <td>c7c95ed0a3ecd1115889a8e6483b040d8c4407829d2a13...</td>\n",
              "      <td>d7fa768a08bcced4b0e3060dfb77af7c6ee516c48f8341...</td>\n",
              "      <td>11309.826172</td>\n",
              "      <td>4561.0</td>\n",
              "      <td>SPORTS</td>\n",
              "      <td>3e169c2c7c217891ced33c35c10f01ba9b1a830e58ff24...</td>\n",
              "      <td>409.0</td>\n",
              "      <td>1.0</td>\n",
              "      <td>5.0</td>\n",
              "      <td>848b127dbd0f3a647581f4a95325f5204f4577ad7956f6...</td>\n",
              "      <td>c984801c82c6f18bcc6c166a5eacd0503f462c2f257c51...</td>\n",
              "      <td>text</td>\n",
              "      <td>DESK</td>\n",
              "      <td>6</td>\n",
              "      <td>PR</td>\n",
              "      <td>UNKNOWN</td>\n",
              "      <td>6</td>\n",
              "      <td>10</td>\n",
              "      <td>-400</td>\n",
              "      <td>0.0</td>\n",
              "    </tr>\n",
              "    <tr>\n",
              "      <th>8</th>\n",
              "      <td>1586419393061</td>\n",
              "      <td>3d608acd11bd38d9728e36804ed1a2cf4ee8f51645fb4b...</td>\n",
              "      <td>0e9cd877e6c7167a11e238a1bec58ec1984d223247a6bf...</td>\n",
              "      <td>8306aa8ca098af4fdb9346d1239d05dd928985fa2e95d9...</td>\n",
              "      <td>02721aa31eed25fcc520352aaf8ebae768ce2fe2b34a55...</td>\n",
              "      <td>1237.845825</td>\n",
              "      <td>171.0</td>\n",
              "      <td>BUSINESS</td>\n",
              "      <td>e1999a72622caae58e94f73f9789b22b3f849ef0b11f6e...</td>\n",
              "      <td>431.0</td>\n",
              "      <td>0.0</td>\n",
              "      <td>0.0</td>\n",
              "      <td>848b127dbd0f3a647581f4a95325f5204f4577ad7956f6...</td>\n",
              "      <td>43570b08c1b694037f9ac244ffb816fae4a36caf0ce2a9...</td>\n",
              "      <td>text</td>\n",
              "      <td>DESK</td>\n",
              "      <td>6</td>\n",
              "      <td>US</td>\n",
              "      <td>SD</td>\n",
              "      <td>4</td>\n",
              "      <td>3</td>\n",
              "      <td>-500</td>\n",
              "      <td>0.0</td>\n",
              "    </tr>\n",
              "    <tr>\n",
              "      <th>...</th>\n",
              "      <td>...</td>\n",
              "      <td>...</td>\n",
              "      <td>...</td>\n",
              "      <td>...</td>\n",
              "      <td>...</td>\n",
              "      <td>...</td>\n",
              "      <td>...</td>\n",
              "      <td>...</td>\n",
              "      <td>...</td>\n",
              "      <td>...</td>\n",
              "      <td>...</td>\n",
              "      <td>...</td>\n",
              "      <td>...</td>\n",
              "      <td>...</td>\n",
              "      <td>...</td>\n",
              "      <td>...</td>\n",
              "      <td>...</td>\n",
              "      <td>...</td>\n",
              "      <td>...</td>\n",
              "      <td>...</td>\n",
              "      <td>...</td>\n",
              "      <td>...</td>\n",
              "      <td>...</td>\n",
              "    </tr>\n",
              "    <tr>\n",
              "      <th>4336826</th>\n",
              "      <td>1586910210228</td>\n",
              "      <td>ca8d88019fff5277fcf9a96703aeaabe35f284af5222d5...</td>\n",
              "      <td>5f9256c388840483313b2779b9cc9a54d608b566f2f737...</td>\n",
              "      <td>aeb3b392d01e8117900ec69a85a2e8a98eb174863cb3e9...</td>\n",
              "      <td>e66e1861c06e80f835e71ea277ef831fb693931a013a6a...</td>\n",
              "      <td>100.084137</td>\n",
              "      <td>292.0</td>\n",
              "      <td>ENTERTAINMENT</td>\n",
              "      <td>2a1989e08355c7e9539e9b9a01c9a7f7869d75bf071b9b...</td>\n",
              "      <td>181.0</td>\n",
              "      <td>6.0</td>\n",
              "      <td>0.0</td>\n",
              "      <td>848b127dbd0f3a647581f4a95325f5204f4577ad7956f6...</td>\n",
              "      <td>bc2692a161c52854276407629d2d0c42dea03ad6b70cbd...</td>\n",
              "      <td>photo</td>\n",
              "      <td>PHON</td>\n",
              "      <td>2</td>\n",
              "      <td>US</td>\n",
              "      <td>NY</td>\n",
              "      <td>2</td>\n",
              "      <td>20</td>\n",
              "      <td>-400</td>\n",
              "      <td>1.0</td>\n",
              "    </tr>\n",
              "    <tr>\n",
              "      <th>4336827</th>\n",
              "      <td>1586893510288</td>\n",
              "      <td>46239ad919ef4a70aaea61bda7847654b1750f0d86d9b6...</td>\n",
              "      <td>14535fb98ddfc699d4e171eb66cd029087643ce8eb8e07...</td>\n",
              "      <td>4428e3d0a6542eda13ebb862cb20c6317b4ab81509972c...</td>\n",
              "      <td>b0bb57c38ec6f52f6464e2da3b96ec1152414badcdb2d3...</td>\n",
              "      <td>251.916733</td>\n",
              "      <td>2994.0</td>\n",
              "      <td>SPORTS</td>\n",
              "      <td>d85e09d9ae23581045908b7c99558421828017306677c6...</td>\n",
              "      <td>422.0</td>\n",
              "      <td>250.0</td>\n",
              "      <td>0.0</td>\n",
              "      <td>848b127dbd0f3a647581f4a95325f5204f4577ad7956f6...</td>\n",
              "      <td>e931df9d172c34a4b08bb3de003ded74dc4c78be8162ff...</td>\n",
              "      <td>video</td>\n",
              "      <td>DESK</td>\n",
              "      <td>6</td>\n",
              "      <td>US</td>\n",
              "      <td>TX</td>\n",
              "      <td>2</td>\n",
              "      <td>14</td>\n",
              "      <td>-500</td>\n",
              "      <td>1.0</td>\n",
              "    </tr>\n",
              "    <tr>\n",
              "      <th>4336828</th>\n",
              "      <td>1586448647206</td>\n",
              "      <td>c5c4f04453bdbb3d56e107c6dc4a3a43e98be7d434ea36...</td>\n",
              "      <td>2e9ae81efa5bcdf7daff38b605f39d48f5b308d6a5352e...</td>\n",
              "      <td>22fe3033fa3934361e778318421398669b17ef75991710...</td>\n",
              "      <td>762c8d785d57c2c3a2ce0c4b2d114b56f16bc269afbf72...</td>\n",
              "      <td>386.188110</td>\n",
              "      <td>2070.0</td>\n",
              "      <td>LIFE~PETS</td>\n",
              "      <td>2e427669f363241a9eaba229dacac935e2f23c2a54b0f8...</td>\n",
              "      <td>738.0</td>\n",
              "      <td>6.0</td>\n",
              "      <td>0.0</td>\n",
              "      <td>848b127dbd0f3a647581f4a95325f5204f4577ad7956f6...</td>\n",
              "      <td>77461991264f5371df01f7392892103aa6378ecbaa0560...</td>\n",
              "      <td>video</td>\n",
              "      <td>DESK</td>\n",
              "      <td>6</td>\n",
              "      <td>US</td>\n",
              "      <td>MA</td>\n",
              "      <td>4</td>\n",
              "      <td>12</td>\n",
              "      <td>-400</td>\n",
              "      <td>1.0</td>\n",
              "    </tr>\n",
              "    <tr>\n",
              "      <th>4336829</th>\n",
              "      <td>1587064851500</td>\n",
              "      <td>10ef0e1bb02b1ca2620b1684001891c2e1993de6acff91...</td>\n",
              "      <td>2215e14be5d5e950d704c76433afb91e48985915caf35d...</td>\n",
              "      <td>df1c0e019aefd4f2825f058965a0f3b4214af79a039934...</td>\n",
              "      <td>738a586790939a6f151e876a55ac6ab64e8b68344dc19f...</td>\n",
              "      <td>61910.335938</td>\n",
              "      <td>58331.0</td>\n",
              "      <td>TECH</td>\n",
              "      <td>069fe5aed6d063e353be3bd4e205fc79f104cc4c322c44...</td>\n",
              "      <td>341.0</td>\n",
              "      <td>5.0</td>\n",
              "      <td>3.0</td>\n",
              "      <td>c29a980222a2a97b74ffbd067f2a4ce760e3e8d8f02494...</td>\n",
              "      <td>4c7987d659b97d2007c45bb3c9fd903b135a2ef18130f7...</td>\n",
              "      <td>homepage</td>\n",
              "      <td>DESK</td>\n",
              "      <td>6</td>\n",
              "      <td>US</td>\n",
              "      <td>NY</td>\n",
              "      <td>4</td>\n",
              "      <td>15</td>\n",
              "      <td>-400</td>\n",
              "      <td>0.0</td>\n",
              "    </tr>\n",
              "    <tr>\n",
              "      <th>4336830</th>\n",
              "      <td>1587070134810</td>\n",
              "      <td>5909ca8bfc2227386086efc9b8946320e651457a3adf5f...</td>\n",
              "      <td>05e12a6202d9aa42ca86f9d2da7f8e73acdb13b1bfda79...</td>\n",
              "      <td>00969476791e522c12df362a27e2c03e99223b3679f233...</td>\n",
              "      <td>ea6262ed2f507396ece6c21678f7e33bf3e0b916d8e749...</td>\n",
              "      <td>64288.750000</td>\n",
              "      <td>24348.0</td>\n",
              "      <td>BUSINESS</td>\n",
              "      <td>e14cfa3be25a6798501412d8b1ca50596d0cbafa79c9ea...</td>\n",
              "      <td>1225.0</td>\n",
              "      <td>25.0</td>\n",
              "      <td>2.0</td>\n",
              "      <td>c29a980222a2a97b74ffbd067f2a4ce760e3e8d8f02494...</td>\n",
              "      <td>4c7987d659b97d2007c45bb3c9fd903b135a2ef18130f7...</td>\n",
              "      <td>homepage</td>\n",
              "      <td>TBLT</td>\n",
              "      <td>1</td>\n",
              "      <td>US</td>\n",
              "      <td>WI</td>\n",
              "      <td>4</td>\n",
              "      <td>15</td>\n",
              "      <td>-500</td>\n",
              "      <td>0.0</td>\n",
              "    </tr>\n",
              "  </tbody>\n",
              "</table>\n",
              "<p>3224144 rows × 23 columns</p>\n",
              "</div>"
            ],
            "text/plain": [
              "        page_view_start_time  ... is_click\n",
              "0              1586664815841  ...      1.0\n",
              "2              1587045094042  ...      1.0\n",
              "3              1586734980254  ...      1.0\n",
              "6              1587219481558  ...      0.0\n",
              "8              1586419393061  ...      0.0\n",
              "...                      ...  ...      ...\n",
              "4336826        1586910210228  ...      1.0\n",
              "4336827        1586893510288  ...      1.0\n",
              "4336828        1586448647206  ...      1.0\n",
              "4336829        1587064851500  ...      0.0\n",
              "4336830        1587070134810  ...      0.0\n",
              "\n",
              "[3224144 rows x 23 columns]"
            ]
          },
          "metadata": {
            "tags": []
          },
          "execution_count": 145
        }
      ]
    },
    {
      "cell_type": "code",
      "metadata": {
        "id": "W1Drn08ZneJ9"
      },
      "source": [
        "# Remove duplicate records\n",
        "data_filtered.drop_duplicates(keep='last', inplace=True)"
      ],
      "execution_count": null,
      "outputs": []
    },
    {
      "cell_type": "code",
      "metadata": {
        "id": "L8lhKYUthMgN"
      },
      "source": [
        "# split train and test\n",
        "train, val = train_test_split(data_filtered, train_size = 0.8)"
      ],
      "execution_count": 147,
      "outputs": []
    },
    {
      "cell_type": "code",
      "metadata": {
        "id": "q-N7kg61hvNt"
      },
      "source": [
        "# Split feature columns from target\n",
        "X_train = train.iloc[:,:-1]\n",
        "X_val = val.iloc[:,:-1]\n",
        "X_test = rca_df_test.iloc[:,:-1]\n",
        "\n",
        "y_train = train[\"is_click\"]\n",
        "y_val = val[\"is_click\"]\n",
        "y_test = rca_df_test[\"Id\"]"
      ],
      "execution_count": 148,
      "outputs": []
    },
    {
      "cell_type": "markdown",
      "metadata": {
        "id": "w_YVZzPFFaAJ"
      },
      "source": [
        "#Pre process"
      ]
    },
    {
      "cell_type": "code",
      "metadata": {
        "id": "-gk1Lq9btdiX"
      },
      "source": [
        "# transform page_view_start_time into date - and take only the day because month and year same for each record (April 2020)\n",
        "def transform_unix_to_date(df):\n",
        "  df[\"page_view_start_time_date\"] = pd.to_datetime(df[\"page_view_start_time\"], unit='ms')\n",
        "  df[\"day\"] =  df[\"page_view_start_time_date\"].dt.day\n",
        "  df.drop([\"page_view_start_time\", \"gmt_offset\", \"page_view_start_time_date\"], axis=1,inplace= True) # removed because time of day already contains the gmt offset\n",
        "  return df"
      ],
      "execution_count": 149,
      "outputs": []
    },
    {
      "cell_type": "code",
      "metadata": {
        "id": "j-oP0pYTmneM"
      },
      "source": [
        "# remove userid because cold start problem\n",
        "def drop_userid(df):\n",
        "  return df.drop(columns='user_id_hash')"
      ],
      "execution_count": 150,
      "outputs": []
    },
    {
      "cell_type": "code",
      "metadata": {
        "id": "Gv4VnKgYmjPd"
      },
      "source": [
        "# fill nan values with defaults of Unknwon for sparse and 0 for dense\n",
        "def fill_na(df):\n",
        "  df[sparse_features] = df[sparse_features].fillna('Unknown', )\n",
        "  df[dense_features] = df[dense_features].fillna(0, )\n",
        "  return df"
      ],
      "execution_count": 151,
      "outputs": []
    },
    {
      "cell_type": "code",
      "metadata": {
        "id": "y_kRnjGWxpqz"
      },
      "source": [
        "# run preprocess\n",
        "def run_preprocess(df):\n",
        "  df = drop_userid(df)\n",
        "  df = transform_unix_to_date(df)\n",
        "  df = fill_na(df)\n",
        "  return df"
      ],
      "execution_count": 152,
      "outputs": []
    },
    {
      "cell_type": "code",
      "metadata": {
        "id": "2ARoDl5pjKLG"
      },
      "source": [
        "X_train = run_preprocess(X_train)\n",
        "X_val = run_preprocess(X_val)\n",
        "X_test = run_preprocess(X_test)"
      ],
      "execution_count": 153,
      "outputs": []
    },
    {
      "cell_type": "markdown",
      "metadata": {
        "id": "V4rs0PDPC3ul"
      },
      "source": [
        "# Encode features"
      ]
    },
    {
      "cell_type": "code",
      "metadata": {
        "id": "cCxU3xh6PI6-"
      },
      "source": [
        "class CategoryEncoder(object):\n",
        "    \"\"\"\n",
        "    Once fit method is called, sklearn.preprocessing.LabelEncoder cannot encode new categories. \n",
        "    In this category encoder, fit can be called any number times. It encodes categories which it has not seen before,\n",
        "    without changing the encoding of existing categories. \n",
        "    \n",
        "    The first category has encoded value of one. value of zero belongs to Unknown key\n",
        "    \"\"\"\n",
        "    start = 1\n",
        "    \n",
        "    def __init__(self, start=1):\n",
        "        self.mapping = {}\n",
        "        self.start = start\n",
        "        \n",
        "    def fit(self, l):\n",
        "        if not isinstance(l, Iterable):\n",
        "            l = [l]\n",
        "        for o in l:\n",
        "            if o not in self.mapping.keys():\n",
        "                self.mapping[o] = len(self.mapping.keys()) + self.start\n",
        "        self.mapping[\"Unknown\"] = 0\n",
        "        return self\n",
        "                \n",
        "    def transform(self, l):\n",
        "        if isinstance(l, Iterable):\n",
        "            return [self.mapping.get(o,0) for o in l]\n",
        "        else:\n",
        "            return self.mapping.get(l,0)\n",
        "    \n",
        "    def fit_transform(self,l):\n",
        "        self.fit(l)\n",
        "        return self.transform(l) "
      ],
      "execution_count": 154,
      "outputs": []
    },
    {
      "cell_type": "code",
      "metadata": {
        "id": "_qL-vkobbGzH"
      },
      "source": [
        "# Scale dense features with MinMaxScaler - fit on train and trasnform train, test and validation\n",
        "mms = MinMaxScaler(feature_range=(0,1))\n",
        "X_train[dense_features] = mms.fit_transform(X_train[dense_features])\n",
        "X_val[dense_features] = mms.transform(X_val[dense_features])\n",
        "X_test[dense_features] = mms.transform(X_test[dense_features])"
      ],
      "execution_count": 155,
      "outputs": []
    },
    {
      "cell_type": "code",
      "metadata": {
        "id": "LSA58fpnPcWL"
      },
      "source": [
        "# Encode sparse features with CategoryEncoder Class - fit on train and trasnform train, test and validation\n",
        "for feat in sparse_features:\n",
        "  cae = CategoryEncoder()\n",
        "  X_train[feat] = cae.fit_transform(X_train[feat])\n",
        "  X_val[feat] = cae.transform(X_val[feat])\n",
        "  X_test[feat] = cae.transform(X_test[feat])"
      ],
      "execution_count": 156,
      "outputs": []
    },
    {
      "cell_type": "code",
      "metadata": {
        "colab": {
          "base_uri": "https://localhost:8080/"
        },
        "id": "B29hTRc4yvBz",
        "outputId": "984d7ef7-9d7d-4298-c864-62c4a33064ab"
      },
      "source": [
        "# Number of unique values in sparse features\n",
        "for feat in sparse_features:\n",
        "  print(f\"{feat}: {len(X_train[feat].unique())}\")"
      ],
      "execution_count": 157,
      "outputs": [
        {
          "output_type": "stream",
          "text": [
            "target_id_hash: 11867\n",
            "syndicator_id_hash: 1386\n",
            "campaign_id_hash: 5926\n",
            "target_item_taxonomy: 61\n",
            "placement_id_hash: 1311\n",
            "publisher_id_hash: 3\n",
            "source_id_hash: 82127\n",
            "source_item_type: 5\n",
            "browser_platform: 4\n",
            "country_code: 264\n",
            "region: 1179\n",
            "day_of_week: 7\n",
            "time_of_day: 24\n",
            "os_family: 7\n"
          ],
          "name": "stdout"
        }
      ]
    },
    {
      "cell_type": "code",
      "metadata": {
        "colab": {
          "base_uri": "https://localhost:8080/",
          "height": 434
        },
        "id": "9AVFa01Dbyzv",
        "outputId": "c2a18e7a-2ae5-42b5-9f2e-8448badcd10f"
      },
      "source": [
        "# Show data\n",
        "X_train"
      ],
      "execution_count": 158,
      "outputs": [
        {
          "output_type": "execute_result",
          "data": {
            "text/html": [
              "<div>\n",
              "<style scoped>\n",
              "    .dataframe tbody tr th:only-of-type {\n",
              "        vertical-align: middle;\n",
              "    }\n",
              "\n",
              "    .dataframe tbody tr th {\n",
              "        vertical-align: top;\n",
              "    }\n",
              "\n",
              "    .dataframe thead th {\n",
              "        text-align: right;\n",
              "    }\n",
              "</style>\n",
              "<table border=\"1\" class=\"dataframe\">\n",
              "  <thead>\n",
              "    <tr style=\"text-align: right;\">\n",
              "      <th></th>\n",
              "      <th>target_id_hash</th>\n",
              "      <th>syndicator_id_hash</th>\n",
              "      <th>campaign_id_hash</th>\n",
              "      <th>empiric_calibrated_recs</th>\n",
              "      <th>empiric_clicks</th>\n",
              "      <th>target_item_taxonomy</th>\n",
              "      <th>placement_id_hash</th>\n",
              "      <th>user_recs</th>\n",
              "      <th>user_clicks</th>\n",
              "      <th>user_target_recs</th>\n",
              "      <th>publisher_id_hash</th>\n",
              "      <th>source_id_hash</th>\n",
              "      <th>source_item_type</th>\n",
              "      <th>browser_platform</th>\n",
              "      <th>os_family</th>\n",
              "      <th>country_code</th>\n",
              "      <th>region</th>\n",
              "      <th>day_of_week</th>\n",
              "      <th>time_of_day</th>\n",
              "      <th>day</th>\n",
              "    </tr>\n",
              "  </thead>\n",
              "  <tbody>\n",
              "    <tr>\n",
              "      <th>3765749</th>\n",
              "      <td>1</td>\n",
              "      <td>1</td>\n",
              "      <td>1</td>\n",
              "      <td>6.369542e-02</td>\n",
              "      <td>0.287813</td>\n",
              "      <td>1</td>\n",
              "      <td>1</td>\n",
              "      <td>0.000000</td>\n",
              "      <td>0.000</td>\n",
              "      <td>0.00</td>\n",
              "      <td>1</td>\n",
              "      <td>1</td>\n",
              "      <td>1</td>\n",
              "      <td>1</td>\n",
              "      <td>1</td>\n",
              "      <td>1</td>\n",
              "      <td>1</td>\n",
              "      <td>1</td>\n",
              "      <td>1</td>\n",
              "      <td>11</td>\n",
              "    </tr>\n",
              "    <tr>\n",
              "      <th>487214</th>\n",
              "      <td>2</td>\n",
              "      <td>2</td>\n",
              "      <td>2</td>\n",
              "      <td>1.589501e-02</td>\n",
              "      <td>0.006857</td>\n",
              "      <td>2</td>\n",
              "      <td>2</td>\n",
              "      <td>0.000000</td>\n",
              "      <td>0.000</td>\n",
              "      <td>0.00</td>\n",
              "      <td>2</td>\n",
              "      <td>2</td>\n",
              "      <td>1</td>\n",
              "      <td>1</td>\n",
              "      <td>1</td>\n",
              "      <td>1</td>\n",
              "      <td>2</td>\n",
              "      <td>2</td>\n",
              "      <td>2</td>\n",
              "      <td>8</td>\n",
              "    </tr>\n",
              "    <tr>\n",
              "      <th>2158485</th>\n",
              "      <td>3</td>\n",
              "      <td>3</td>\n",
              "      <td>3</td>\n",
              "      <td>1.098522e-02</td>\n",
              "      <td>0.007956</td>\n",
              "      <td>3</td>\n",
              "      <td>3</td>\n",
              "      <td>0.045342</td>\n",
              "      <td>0.004</td>\n",
              "      <td>0.03</td>\n",
              "      <td>3</td>\n",
              "      <td>3</td>\n",
              "      <td>2</td>\n",
              "      <td>1</td>\n",
              "      <td>1</td>\n",
              "      <td>1</td>\n",
              "      <td>3</td>\n",
              "      <td>2</td>\n",
              "      <td>2</td>\n",
              "      <td>15</td>\n",
              "    </tr>\n",
              "    <tr>\n",
              "      <th>2493281</th>\n",
              "      <td>4</td>\n",
              "      <td>4</td>\n",
              "      <td>4</td>\n",
              "      <td>6.012914e-08</td>\n",
              "      <td>0.000001</td>\n",
              "      <td>1</td>\n",
              "      <td>4</td>\n",
              "      <td>0.060065</td>\n",
              "      <td>0.028</td>\n",
              "      <td>0.00</td>\n",
              "      <td>3</td>\n",
              "      <td>4</td>\n",
              "      <td>2</td>\n",
              "      <td>2</td>\n",
              "      <td>2</td>\n",
              "      <td>1</td>\n",
              "      <td>4</td>\n",
              "      <td>3</td>\n",
              "      <td>3</td>\n",
              "      <td>14</td>\n",
              "    </tr>\n",
              "    <tr>\n",
              "      <th>1849730</th>\n",
              "      <td>5</td>\n",
              "      <td>5</td>\n",
              "      <td>5</td>\n",
              "      <td>7.304479e-03</td>\n",
              "      <td>0.010066</td>\n",
              "      <td>4</td>\n",
              "      <td>5</td>\n",
              "      <td>0.006515</td>\n",
              "      <td>0.000</td>\n",
              "      <td>0.00</td>\n",
              "      <td>3</td>\n",
              "      <td>5</td>\n",
              "      <td>3</td>\n",
              "      <td>1</td>\n",
              "      <td>1</td>\n",
              "      <td>1</td>\n",
              "      <td>2</td>\n",
              "      <td>2</td>\n",
              "      <td>4</td>\n",
              "      <td>8</td>\n",
              "    </tr>\n",
              "    <tr>\n",
              "      <th>...</th>\n",
              "      <td>...</td>\n",
              "      <td>...</td>\n",
              "      <td>...</td>\n",
              "      <td>...</td>\n",
              "      <td>...</td>\n",
              "      <td>...</td>\n",
              "      <td>...</td>\n",
              "      <td>...</td>\n",
              "      <td>...</td>\n",
              "      <td>...</td>\n",
              "      <td>...</td>\n",
              "      <td>...</td>\n",
              "      <td>...</td>\n",
              "      <td>...</td>\n",
              "      <td>...</td>\n",
              "      <td>...</td>\n",
              "      <td>...</td>\n",
              "      <td>...</td>\n",
              "      <td>...</td>\n",
              "      <td>...</td>\n",
              "    </tr>\n",
              "    <tr>\n",
              "      <th>988041</th>\n",
              "      <td>897</td>\n",
              "      <td>20</td>\n",
              "      <td>691</td>\n",
              "      <td>1.339278e-02</td>\n",
              "      <td>0.013837</td>\n",
              "      <td>21</td>\n",
              "      <td>36</td>\n",
              "      <td>0.000000</td>\n",
              "      <td>0.000</td>\n",
              "      <td>0.00</td>\n",
              "      <td>1</td>\n",
              "      <td>1</td>\n",
              "      <td>1</td>\n",
              "      <td>1</td>\n",
              "      <td>1</td>\n",
              "      <td>1</td>\n",
              "      <td>22</td>\n",
              "      <td>6</td>\n",
              "      <td>20</td>\n",
              "      <td>6</td>\n",
              "    </tr>\n",
              "    <tr>\n",
              "      <th>1949018</th>\n",
              "      <td>261</td>\n",
              "      <td>119</td>\n",
              "      <td>153</td>\n",
              "      <td>1.008432e-04</td>\n",
              "      <td>0.002107</td>\n",
              "      <td>5</td>\n",
              "      <td>49</td>\n",
              "      <td>0.130423</td>\n",
              "      <td>0.128</td>\n",
              "      <td>0.01</td>\n",
              "      <td>3</td>\n",
              "      <td>28243</td>\n",
              "      <td>3</td>\n",
              "      <td>1</td>\n",
              "      <td>1</td>\n",
              "      <td>1</td>\n",
              "      <td>7</td>\n",
              "      <td>7</td>\n",
              "      <td>17</td>\n",
              "      <td>13</td>\n",
              "    </tr>\n",
              "    <tr>\n",
              "      <th>4086958</th>\n",
              "      <td>407</td>\n",
              "      <td>36</td>\n",
              "      <td>347</td>\n",
              "      <td>9.196708e-02</td>\n",
              "      <td>0.121092</td>\n",
              "      <td>12</td>\n",
              "      <td>135</td>\n",
              "      <td>0.023844</td>\n",
              "      <td>0.016</td>\n",
              "      <td>0.00</td>\n",
              "      <td>3</td>\n",
              "      <td>10873</td>\n",
              "      <td>2</td>\n",
              "      <td>1</td>\n",
              "      <td>1</td>\n",
              "      <td>1</td>\n",
              "      <td>25</td>\n",
              "      <td>1</td>\n",
              "      <td>10</td>\n",
              "      <td>10</td>\n",
              "    </tr>\n",
              "    <tr>\n",
              "      <th>320362</th>\n",
              "      <td>1571</td>\n",
              "      <td>24</td>\n",
              "      <td>141</td>\n",
              "      <td>1.798286e-02</td>\n",
              "      <td>0.020265</td>\n",
              "      <td>2</td>\n",
              "      <td>57</td>\n",
              "      <td>0.039088</td>\n",
              "      <td>0.038</td>\n",
              "      <td>0.00</td>\n",
              "      <td>1</td>\n",
              "      <td>1</td>\n",
              "      <td>1</td>\n",
              "      <td>1</td>\n",
              "      <td>1</td>\n",
              "      <td>1</td>\n",
              "      <td>3</td>\n",
              "      <td>6</td>\n",
              "      <td>3</td>\n",
              "      <td>6</td>\n",
              "    </tr>\n",
              "    <tr>\n",
              "      <th>1150744</th>\n",
              "      <td>275</td>\n",
              "      <td>62</td>\n",
              "      <td>243</td>\n",
              "      <td>1.365728e-04</td>\n",
              "      <td>0.000943</td>\n",
              "      <td>7</td>\n",
              "      <td>339</td>\n",
              "      <td>0.051596</td>\n",
              "      <td>0.079</td>\n",
              "      <td>0.00</td>\n",
              "      <td>3</td>\n",
              "      <td>700</td>\n",
              "      <td>2</td>\n",
              "      <td>1</td>\n",
              "      <td>1</td>\n",
              "      <td>1</td>\n",
              "      <td>5</td>\n",
              "      <td>6</td>\n",
              "      <td>6</td>\n",
              "      <td>13</td>\n",
              "    </tr>\n",
              "  </tbody>\n",
              "</table>\n",
              "<p>2316048 rows × 20 columns</p>\n",
              "</div>"
            ],
            "text/plain": [
              "         target_id_hash  syndicator_id_hash  ...  time_of_day  day\n",
              "3765749               1                   1  ...            1   11\n",
              "487214                2                   2  ...            2    8\n",
              "2158485               3                   3  ...            2   15\n",
              "2493281               4                   4  ...            3   14\n",
              "1849730               5                   5  ...            4    8\n",
              "...                 ...                 ...  ...          ...  ...\n",
              "988041              897                  20  ...           20    6\n",
              "1949018             261                 119  ...           17   13\n",
              "4086958             407                  36  ...           10   10\n",
              "320362             1571                  24  ...            3    6\n",
              "1150744             275                  62  ...            6   13\n",
              "\n",
              "[2316048 rows x 20 columns]"
            ]
          },
          "metadata": {
            "tags": []
          },
          "execution_count": 158
        }
      ]
    },
    {
      "cell_type": "markdown",
      "metadata": {
        "id": "n1YB1Hgutm5S"
      },
      "source": [
        "# DeepFM Preprocessing"
      ]
    },
    {
      "cell_type": "code",
      "metadata": {
        "id": "Xu2KYuLLk0W_"
      },
      "source": [
        "# the firsts sparse vector for sprase features, the second for small categorcial features, and dense vector for dense features \n",
        "fixlen_feature_columns = [SparseFeat(feat, vocabulary_size=X_train[feat].max()+1,embedding_dim=4)\n",
        "                              for feat in sparse_features] + [DenseFeat(feat, 1, )\n",
        "                          for feat in dense_features]"
      ],
      "execution_count": 180,
      "outputs": []
    },
    {
      "cell_type": "code",
      "metadata": {
        "id": "VEoijXYek1Vk"
      },
      "source": [
        "# both go to embedding and dnn\n",
        "dnn_feature_columns = fixlen_feature_columns\n",
        "linear_feature_columns = fixlen_feature_columns\n",
        "\n",
        "feature_names = get_feature_names(linear_feature_columns + dnn_feature_columns)"
      ],
      "execution_count": 181,
      "outputs": []
    },
    {
      "cell_type": "code",
      "metadata": {
        "id": "hQCe1oRE0BBa"
      },
      "source": [
        "# Create train input for DeepFM\n",
        "input_train = {name:X_train[name] for name in feature_names}\n",
        "output_train = y_train.values"
      ],
      "execution_count": 182,
      "outputs": []
    },
    {
      "cell_type": "code",
      "metadata": {
        "id": "Ey7FTUPg0GJr"
      },
      "source": [
        "# Create validation input for DeepFM\n",
        "input_val = {name:X_val[name] for name in feature_names}\n",
        "output_val = y_val.values"
      ],
      "execution_count": 183,
      "outputs": []
    },
    {
      "cell_type": "code",
      "metadata": {
        "id": "H7e1JTOhkUdd"
      },
      "source": [
        "# Create test input for DeepFM\n",
        "input_test = {name:X_test[name] for name in feature_names}"
      ],
      "execution_count": 184,
      "outputs": []
    },
    {
      "cell_type": "markdown",
      "metadata": {
        "id": "TNy_eyKRSEnL"
      },
      "source": [
        "#Build Model"
      ]
    },
    {
      "cell_type": "code",
      "metadata": {
        "id": "7Ai4HecQSIoi"
      },
      "source": [
        "# Define loss function. Although some loss functions are build-in functions and are available to use, this is an example of how you can create\\define your own loss function.\n",
        "def root_mean_squared_error(y_true, y_pred):\n",
        "        return K.sqrt(K.mean(K.square(y_pred - y_true)))"
      ],
      "execution_count": 185,
      "outputs": []
    },
    {
      "cell_type": "code",
      "metadata": {
        "id": "kofiPhJnSIvg"
      },
      "source": [
        "# Build Model\n",
        "model = DeepFM(linear_feature_columns, dnn_feature_columns, task='binary', l2_reg_embedding=0.2)"
      ],
      "execution_count": 186,
      "outputs": []
    },
    {
      "cell_type": "code",
      "metadata": {
        "id": "Lo0yhWFgSLHC"
      },
      "source": [
        "# Compile Model\n",
        "model.compile(optimizer=tf.keras.optimizers.Adam(), loss=tf.keras.losses.BinaryCrossentropy(from_logits=False),\n",
        "              metrics=[tf.keras.metrics.RootMeanSquaredError(), tf.keras.metrics.AUC()], )"
      ],
      "execution_count": 187,
      "outputs": []
    },
    {
      "cell_type": "code",
      "metadata": {
        "id": "hfnmDISSSG5Z",
        "colab": {
          "base_uri": "https://localhost:8080/"
        },
        "outputId": "891b1d28-158b-4077-8ade-2be054a76fb8"
      },
      "source": [
        "# Train model with early stopping\n",
        "es = EarlyStopping(monitor='val_loss', patience=10)\n",
        "\n",
        "history = model.fit(input_train, output_train,\n",
        "                    batch_size=16000, epochs=10, verbose=1, validation_data=(input_val, output_val), callbacks=[es])"
      ],
      "execution_count": 188,
      "outputs": [
        {
          "output_type": "stream",
          "text": [
            "Epoch 1/10\n",
            "145/145 [==============================] - 24s 142ms/step - loss: 4.2571 - root_mean_squared_error: 0.4639 - auc_4: 0.7855 - val_loss: 1.2322 - val_root_mean_squared_error: 0.4408 - val_auc_4: 0.8152\n",
            "Epoch 2/10\n",
            "145/145 [==============================] - 20s 140ms/step - loss: 0.7630 - root_mean_squared_error: 0.4290 - auc_4: 0.8217 - val_loss: 0.5655 - val_root_mean_squared_error: 0.4207 - val_auc_4: 0.8266\n",
            "Epoch 3/10\n",
            "145/145 [==============================] - 20s 139ms/step - loss: 0.5338 - root_mean_squared_error: 0.4155 - auc_4: 0.8306 - val_loss: 0.5195 - val_root_mean_squared_error: 0.4123 - val_auc_4: 0.8321\n",
            "Epoch 4/10\n",
            "145/145 [==============================] - 20s 139ms/step - loss: 0.5124 - root_mean_squared_error: 0.4093 - auc_4: 0.8351 - val_loss: 0.5094 - val_root_mean_squared_error: 0.4082 - val_auc_4: 0.8353\n",
            "Epoch 5/10\n",
            "145/145 [==============================] - 20s 140ms/step - loss: 0.5048 - root_mean_squared_error: 0.4060 - auc_4: 0.8380 - val_loss: 0.5040 - val_root_mean_squared_error: 0.4058 - val_auc_4: 0.8375\n",
            "Epoch 6/10\n",
            "145/145 [==============================] - 20s 141ms/step - loss: 0.5003 - root_mean_squared_error: 0.4040 - auc_4: 0.8399 - val_loss: 0.5006 - val_root_mean_squared_error: 0.4043 - val_auc_4: 0.8390\n",
            "Epoch 7/10\n",
            "145/145 [==============================] - 21s 145ms/step - loss: 0.4974 - root_mean_squared_error: 0.4027 - auc_4: 0.8413 - val_loss: 0.4984 - val_root_mean_squared_error: 0.4033 - val_auc_4: 0.8401\n",
            "Epoch 8/10\n",
            "145/145 [==============================] - 21s 142ms/step - loss: 0.4954 - root_mean_squared_error: 0.4018 - auc_4: 0.8424 - val_loss: 0.4968 - val_root_mean_squared_error: 0.4026 - val_auc_4: 0.8409\n",
            "Epoch 9/10\n",
            "145/145 [==============================] - 21s 142ms/step - loss: 0.4939 - root_mean_squared_error: 0.4011 - auc_4: 0.8432 - val_loss: 0.4957 - val_root_mean_squared_error: 0.4021 - val_auc_4: 0.8416\n",
            "Epoch 10/10\n",
            "145/145 [==============================] - 21s 141ms/step - loss: 0.4928 - root_mean_squared_error: 0.4006 - auc_4: 0.8438 - val_loss: 0.4948 - val_root_mean_squared_error: 0.4016 - val_auc_4: 0.8421\n"
          ],
          "name": "stdout"
        }
      ]
    },
    {
      "cell_type": "markdown",
      "metadata": {
        "id": "PGuJiLB6dwJE"
      },
      "source": [
        "#Test"
      ]
    },
    {
      "cell_type": "code",
      "metadata": {
        "id": "KL5LWTLCIRpv"
      },
      "source": [
        "pred = model.predict(input_test)\n",
        "pred_df = pd.DataFrame(pred)\n",
        "pred_df.reset_index(inplace=True)\n",
        "pred_df.columns = ['Id','Predicted']\n",
        "pred_df.to_csv('my_submission.csv',index=False)"
      ],
      "execution_count": null,
      "outputs": []
    }
  ]
}