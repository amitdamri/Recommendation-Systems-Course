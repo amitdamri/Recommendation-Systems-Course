{
  "nbformat": 4,
  "nbformat_minor": 0,
  "metadata": {
    "colab": {
      "name": "Recommender_Systems_Ass_1.ipynb",
      "provenance": [],
      "collapsed_sections": [],
      "toc_visible": true
    },
    "kernelspec": {
      "name": "python3",
      "display_name": "Python 3"
    },
    "language_info": {
      "name": "python"
    }
  },
  "cells": [
    {
      "cell_type": "markdown",
      "metadata": {
        "id": "dloJR_EFtV-c"
      },
      "source": [
        "# Mount and Load"
      ]
    },
    {
      "cell_type": "code",
      "metadata": {
        "id": "MdblkLIEnONm"
      },
      "source": [
        "import pandas as pd\n",
        "\n",
        "\n",
        "def load(path):\n",
        "    return pd.read_csv(path)"
      ],
      "execution_count": 3,
      "outputs": []
    },
    {
      "cell_type": "code",
      "metadata": {
        "colab": {
          "base_uri": "https://localhost:8080/"
        },
        "id": "l32l838fmi7n",
        "outputId": "e3f8a2bc-39ad-4627-ba8b-52f3eea806db"
      },
      "source": [
        "from google.colab import drive\n",
        "drive.mount('/content/drive')"
      ],
      "execution_count": 4,
      "outputs": [
        {
          "output_type": "stream",
          "text": [
            "Drive already mounted at /content/drive; to attempt to forcibly remount, call drive.mount(\"/content/drive\", force_remount=True).\n"
          ],
          "name": "stdout"
        }
      ]
    },
    {
      "cell_type": "code",
      "metadata": {
        "id": "EmqcywGWnjuT"
      },
      "source": [
        "# load data\n",
        "train_df = load(\"drive/Shareddrives/RecSys/Yelp-Assignment1/userTrainData.csv\")\n",
        "test_df = load(\"drive/Shareddrives/RecSys/Yelp-Assignment1/userTestData.csv\")\n",
        "all_df = pd.concat([train_df,test_df])"
      ],
      "execution_count": 5,
      "outputs": []
    },
    {
      "cell_type": "markdown",
      "metadata": {
        "id": "chDC61x-dpU8"
      },
      "source": [
        "# Data Exploration"
      ]
    },
    {
      "cell_type": "code",
      "metadata": {
        "colab": {
          "base_uri": "https://localhost:8080/"
        },
        "id": "fKtyVq2ZpRqq",
        "outputId": "bfe66367-27a0-496c-ef6b-c04c761c007d"
      },
      "source": [
        "features = train_df.shape[1]\n",
        "samples = train_df.shape[0]\n",
        "\n",
        "print(f'The data contains {features} features and {samples} samples')\n",
        "print(f'Feature names: {train_df.columns.values}')"
      ],
      "execution_count": 7,
      "outputs": [
        {
          "output_type": "stream",
          "text": [
            "The data contains 5 features and 2303580 samples\n",
            "Feature names: ['Unnamed: 0' 'user_id' 'business_id' 'stars' 'text']\n"
          ],
          "name": "stdout"
        }
      ]
    },
    {
      "cell_type": "code",
      "metadata": {
        "colab": {
          "base_uri": "https://localhost:8080/",
          "height": 337
        },
        "id": "3l2UknfwpvO6",
        "outputId": "c6ab4e99-3d27-4565-f55c-9abf438514b1"
      },
      "source": [
        "# Ratings\n",
        "print(\"Ratings amount:\")\n",
        "train_df[\"stars\"].value_counts().sort_index().plot.bar(title=\"Ratings Count\", xlabel=\"Rating\", ylabel=\"Count\")"
      ],
      "execution_count": 8,
      "outputs": [
        {
          "output_type": "stream",
          "text": [
            "Ratings amount:\n"
          ],
          "name": "stdout"
        },
        {
          "output_type": "execute_result",
          "data": {
            "text/plain": [
              "<matplotlib.axes._subplots.AxesSubplot at 0x7f248ed76510>"
            ]
          },
          "metadata": {
            "tags": []
          },
          "execution_count": 8
        },
        {
          "output_type": "display_data",
          "data": {
            "image/png": "[encoded data removed]",
            "text/plain": [
              "<Figure size 432x288 with 1 Axes>"
            ]
          },
          "metadata": {
            "tags": [],
            "needs_background": "light"
          }
        }
      ]
    },
    {
      "cell_type": "code",
      "metadata": {
        "colab": {
          "base_uri": "https://localhost:8080/"
        },
        "id": "wLd-lhlauTWb",
        "outputId": "e5067985-8e5c-4be7-d45a-266e38c14c53"
      },
      "source": [
        "# Users\n",
        "amount_users = train_df[\"user_id\"].nunique()\n",
        "avg_ratings_per_user = samples / amount_users\n",
        "print(f'Amount of unique users: {amount_users}')\n",
        "print(f'Average amount of ratings per user: {avg_ratings_per_user}')"
      ],
      "execution_count": 9,
      "outputs": [
        {
          "output_type": "stream",
          "text": [
            "Amount of unique users: 239007\n",
            "Average amount of ratings per user: 9.63812775358044\n"
          ],
          "name": "stdout"
        }
      ]
    },
    {
      "cell_type": "code",
      "metadata": {
        "colab": {
          "base_uri": "https://localhost:8080/"
        },
        "id": "wuG1anwQ9cpN",
        "outputId": "65fce63b-c825-410a-9efb-03fbd8ed4bc1"
      },
      "source": [
        "# Businesses\n",
        "\n",
        "amount_businesses = train_df[\"business_id\"].nunique()\n",
        "print(f'Amount of unique businesses: {amount_businesses}')"
      ],
      "execution_count": 10,
      "outputs": [
        {
          "output_type": "stream",
          "text": [
            "Amount of unique businesses: 159168\n"
          ],
          "name": "stdout"
        }
      ]
    },
    {
      "cell_type": "markdown",
      "metadata": {
        "id": "VfiXwmkupFRD"
      },
      "source": [
        "#Collaborative Filtering"
      ]
    },
    {
      "cell_type": "markdown",
      "metadata": {
        "id": "Var-mQsjd4i0"
      },
      "source": [
        "## Model Building"
      ]
    },
    {
      "cell_type": "markdown",
      "metadata": {
        "id": "F3FszpZXPixK"
      },
      "source": [
        "###SVD"
      ]
    },
    {
      "cell_type": "code",
      "metadata": {
        "id": "WPF8h9L9PmZI"
      },
      "source": [
        "# Model class\n",
        "import time\n",
        "import math\n",
        "import numpy as np\n",
        "\n",
        "\n",
        "class RecommenderSystemSVD:\n",
        "  def __init__(self, lr=.005, reg=.02, n_epochs=100, n_factors=70):\n",
        "\n",
        "    self.lr = lr\n",
        "    self.reg = reg\n",
        "    self.n_epochs = n_epochs\n",
        "    self.n_factors = n_factors\n",
        "  \n",
        "  def init_metrics(self):\n",
        "    \"\"\"\n",
        "    initializes the RMSE, loss and MAE metrics dataframe for each epoch\n",
        "    \"\"\"\n",
        "    metrics = np.zeros((self.n_epochs, 3), dtype=np.float)\n",
        "    self.metrics = pd.DataFrame(metrics, columns=['Loss', 'RMSE', 'MAE'])\n",
        "  \n",
        "  def preprocess_data(self, X, is_training = True):\n",
        "    \"\"\"\n",
        "    preparing the data and transforms categorical values into integers\n",
        "    \"\"\"\n",
        "\n",
        "    print('Preprocessing data...\\n')\n",
        "\n",
        "    if is_training:\n",
        "      user_ids = X['user_id'].unique().tolist()\n",
        "      item_ids = X['business_id'].unique().tolist()\n",
        "      n_users = len(user_ids)\n",
        "      n_items = len(item_ids)\n",
        "      user_idx = range(n_users)\n",
        "      item_idx = range(n_items)\n",
        "      self.user_mapping_ = dict(zip(user_ids, user_idx))\n",
        "      self.item_mapping_ = dict(zip(item_ids, item_idx))\n",
        "\n",
        "    X['user_id'] = X['user_id'].map(self.user_mapping_)\n",
        "    X['business_id'] = X['business_id'].map(self.item_mapping_)\n",
        "    # Tag validation set unknown users/items with -1 (enables\n",
        "    # us to detect them when calculating the metrics)\n",
        "    X.fillna(-1, inplace=True)\n",
        "    X['user_id'] = X['user_id'].astype(np.int32)\n",
        "    X['business_id'] = X['business_id'].astype(np.int32)\n",
        "    return X[['user_id', 'business_id', 'stars']].values\n",
        "\n",
        "  def TrainBaseModel(self, train_df):\n",
        "    # split train and validation - 80% train\n",
        "    train = train_df.sample(frac=0.8, random_state=7)\n",
        "    val = train_df.drop(train.index.tolist())\n",
        "\n",
        "    X = self.preprocess_data(train)\n",
        "    X_val = self.preprocess_data(val, is_training = False) # we do not train the model's indices on the validation data\n",
        "    self.init_metrics()\n",
        "    self.global_mue = np.mean(X[:, 2])\n",
        "    self.run_sgd(X, X_val)\n",
        "\n",
        "  def run_sgd(self, X, X_val):\n",
        "    n_users = len(np.unique(X[:,0]))\n",
        "    n_items = len(np.unique(X[:,1]))\n",
        "    \n",
        "    # initialize parameters\n",
        "    bu = np.zeros(n_users)\n",
        "    bi = np.zeros(n_items)\n",
        "    pu = np.random.normal(0, .1, (n_users, self.n_factors))\n",
        "    qi = np.random.normal(0, .1, (n_items, self.n_factors))\n",
        "\n",
        "    # run the SGD (Stochastic Gradient Descent) algorithm\n",
        "    for epoch_i in range (self.n_epochs):\n",
        "      print(f\"Epoch {epoch_i} starts running\")\n",
        "      start_time = time.time()\n",
        "      bu, bi, pu, qi = self.run_epoch(X, bu, bi, pu, qi, self.global_mue,\n",
        "                                      self.n_factors, self.lr, self.reg)\n",
        "      \n",
        "      # metrics computing\n",
        "      self.metrics.loc[epoch_i, :] = self.compute_metrics(X_val, bu, bi, pu, qi, self.global_mue, self.n_factors)\n",
        "\n",
        "      end_time = time.time()\n",
        "      \n",
        "      print(f\"Epoch {epoch_i} ran: {round(end_time - start_time, 2)} seconds, validation set metrics: Loss: {self.metrics.loc[epoch_i, 'Loss']}, RMSE: {self.metrics.loc[epoch_i, 'RMSE']}, MAE: {self.metrics.loc[epoch_i, 'MAE']}\")\n",
        "      if epoch_i > 0:\n",
        "        rmse_improvement = self.metrics.loc[epoch_i, 'RMSE'] - self.metrics.loc[epoch_i - 1, 'RMSE']\n",
        "        print(f\"RMSE improvement from last epoch: {rmse_improvement}\")\n",
        "        # early stopping\n",
        "        if rmse_improvement > 0:\n",
        "          # the last training step raised the RMSE - early stopping criterion\n",
        "          print(\"Early stopping criterion reached\")\n",
        "          break\n",
        "      \n",
        "      self.bu_ = bu\n",
        "      self.bi_ = bi\n",
        "      self.pu_ = pu\n",
        "      self.qi_ = qi\n",
        "\n",
        "  def compute_metrics(self, X_val, bu, bi, pu, qi, global_mue, n_factors):\n",
        "    \"\"\"\n",
        "    computes mse, rmse and mae measures\n",
        "    \"\"\"\n",
        "    residuals = []\n",
        "    for i in range(X_val.shape[0]):\n",
        "        user, item, rating = int(X_val[i, 0]), int(X_val[i, 1]), X_val[i, 2]\n",
        "        pred = global_mue\n",
        "        if user > -1:\n",
        "            pred += bu[user]\n",
        "        if item > -1:\n",
        "            pred += bi[item]\n",
        "        if (user > -1) and (item > -1):\n",
        "          pred += np.transpose(qi[item, :]).dot(pu[user,:])\n",
        "\n",
        "        residuals.append(rating - pred)\n",
        "    residuals = np.array(residuals)\n",
        "    loss = np.square(residuals).mean()\n",
        "    rmse = np.sqrt(loss)\n",
        "    mae = np.absolute(residuals).mean()\n",
        "    return loss, rmse, mae\n",
        "\n",
        "  def predict_rating(self, X_test):\n",
        "    bu = self.bu_\n",
        "    bi = self.bi_\n",
        "    pu = self.pu_\n",
        "    qi = self.qi_\n",
        "    test = self.preprocess_data(X_test, is_training = False)\n",
        "    pred_vec = []\n",
        "    for i in range(test.shape[0]):\n",
        "      user, item, rating = int(test[i, 0]), int(test[i, 1]), test[i, 2]\n",
        "      pred = self.global_mue\n",
        "      if user > -1:\n",
        "          pred += bu[user]\n",
        "      if item > -1:\n",
        "          pred += bi[item]\n",
        "      if (user > -1) and (item > -1):\n",
        "        pred += np.transpose(qi[item, :]).dot(pu[user,:])\n",
        "      pred_vec.append(pred)\n",
        "    \n",
        "    return pred_vec\n",
        "\n",
        "\n",
        "  def run_epoch(self, X, bu, bi, pu, qi, global_mean, n_factors, lr, reg):\n",
        "    for i in range(X.shape[0]):\n",
        "      user, item, rating = int(X[i, 0]), int(X[i, 1]), X[i, 2]\n",
        "      # calculate r_hat\n",
        "      pred = global_mean + bu[user] + bi[item]\n",
        "      # add the factors calculation to r_hat\n",
        "      pred += np.transpose(qi[item, :]).dot(pu[user, :])\n",
        "\n",
        "      # calculate the error of r_hat and the real r\n",
        "      err = rating - pred\n",
        "      # update all parameters\n",
        "      # update biases\n",
        "      bu[user] += lr * (err - reg * bu[user])\n",
        "      bi[item] += lr * (err - reg * bi[item])\n",
        "      # update the latent factors\n",
        "      pu_user = pu[user,:]\n",
        "      qi_item = qi[item, :]\n",
        "      \n",
        "      pu[user, :] += lr * (err * qi_item - reg * pu_user)\n",
        "      qi[item, :] += lr * (err * pu_user - reg * qi_item)\n",
        "\n",
        "    return bu, bi, pu, qi"
      ],
      "execution_count": null,
      "outputs": []
    },
    {
      "cell_type": "markdown",
      "metadata": {
        "id": "obA6j2oPQKwL"
      },
      "source": [
        "###SVD++"
      ]
    },
    {
      "cell_type": "code",
      "metadata": {
        "id": "FfHicrdUPY2L"
      },
      "source": [
        "# Model class\n",
        "import time\n",
        "import math\n",
        "\n",
        "\n",
        "class RecommenderSystemSVDpp:\n",
        "  def __init__(self, lr=.005, reg=.02, n_epochs=100, n_factors=70, lamda5 = 0.005, lamda6 = 0.015, gamma = 0.007):\n",
        "    self.n_epochs = n_epochs\n",
        "    self.n_factors = n_factors\n",
        "    # svdpp parameters\n",
        "    self.lamda5 = lamda5\n",
        "    self.lamda6 = lamda6\n",
        "    self.gamma = gamma\n",
        "  \n",
        "  def init_metrics(self):\n",
        "    \"\"\"\n",
        "    initializes the RMSE, loss and MAE metrics dataframe for each epoch\n",
        "    \"\"\"\n",
        "    metrics = np.zeros((self.n_epochs, 3), dtype=np.float)\n",
        "    self.metrics = pd.DataFrame(metrics, columns=['Loss', 'RMSE', 'MAE'])\n",
        "\n",
        "  def get_user_items(self, X):\n",
        "    df = pd.DataFrame(columns = ['user_id', 'ranked_items'])\n",
        "    user_items_dict = {}\n",
        "    for _, row in X.iterrows():\n",
        "      user = row['user_id']\n",
        "      business_id = row['business_id']\n",
        "      if user in user_items_dict:\n",
        "        user_items = user_items_dict[user]\n",
        "        if business_id not in user_items:\n",
        "          user_items_dict[user].append(business_id)\n",
        "      else:\n",
        "        user_items_dict[user] = [business_id]\n",
        "    return user_items_dict\n",
        "      \n",
        "\n",
        "\n",
        "  def preprocess_data(self, X, is_training = True):\n",
        "    print('Preprocessing data...\\n')\n",
        "\n",
        "    if is_training:\n",
        "      user_ids = X['user_id'].unique().tolist()\n",
        "      item_ids = X['business_id'].unique().tolist()\n",
        "      n_users = len(user_ids)\n",
        "      n_items = len(item_ids)\n",
        "      user_idx = range(n_users)\n",
        "      item_idx = range(n_items)\n",
        "      self.user_mapping_ = dict(zip(user_ids, user_idx))\n",
        "      self.item_mapping_ = dict(zip(item_ids, item_idx))\n",
        "\n",
        "    X['user_id'] = X['user_id'].map(self.user_mapping_)\n",
        "    X['business_id'] = X['business_id'].map(self.item_mapping_)\n",
        "    # Tag validation set unknown users/items with -1 (enables\n",
        "    # us to detect them when calculating the metrics)\n",
        "    X.fillna(-1, inplace=True)\n",
        "    X['user_id'] = X['user_id'].astype(np.int32)\n",
        "    X['business_id'] = X['business_id'].astype(np.int32)\n",
        "\n",
        "    if is_training:\n",
        "      # only if the data is a training data - get all items a user ranked\n",
        "      self.user_items_dict = self.get_user_items(X)\n",
        "\n",
        "    return X[['user_id', 'business_id', 'stars']].values\n",
        "\n",
        "  def TrainSVDppModel(self, train_df):\n",
        "    train = train_df.sample(frac=0.8, random_state=7)\n",
        "    val = train_df.drop(train.index.tolist())\n",
        "    X = self.preprocess_data(train)\n",
        "    X_val = self.preprocess_data(val, is_training = False) # we do not train the model's indices on the validation data\n",
        "    self.init_metrics()\n",
        "    self.global_mue = np.mean(X[:, 2])\n",
        "    self.run_sgd_svdpp(X, X_val)\n",
        "  \n",
        "  def run_sgd_svdpp(self, X, X_val):\n",
        "    n_users = len(np.unique(X[:,0]))\n",
        "    n_items = len(np.unique(X[:,1]))\n",
        "    # initialize parameters\n",
        "    bu = np.zeros(n_users)\n",
        "    bi = np.zeros(n_items)\n",
        "    pu = np.random.normal(0, .1, (n_users, self.n_factors))\n",
        "    qi = np.random.normal(0, .1, (n_items, self.n_factors))\n",
        "    yj = np.random.normal(0, .1, (n_items, self.n_factors))\n",
        "\n",
        "\n",
        "    # run the SGD (Stochastic Gradient Descent) algorithm for SVD++ algorithm\n",
        "    for epoch_i in range (self.n_epochs):\n",
        "      print(f\"Epoch {epoch_i} starts running\")\n",
        "      start_time = time.time()\n",
        "      bu, bi, pu, qi, yj = self.run_epoch_svdpp(X, bu, bi, pu, qi, yj, self.global_mue,\n",
        "                                      self.n_factors, self.gamma, self.lamda5, self.lamda6)\n",
        "      \n",
        "      # metrics computing\n",
        "      self.metrics.loc[epoch_i, :] = self.compute_metrics_svdpp(X_val, bu, bi, pu, qi, yj, self.global_mue, self.n_factors)\n",
        "\n",
        "      end_time = time.time()\n",
        "      \n",
        "      print(f\"Epoch {epoch_i} ran: {round(end_time - start_time, 2)} seconds, validation set metrics: Loss: {self.metrics.loc[epoch_i, 'Loss']}, RMSE: {self.metrics.loc[epoch_i, 'RMSE']}, MAE: {self.metrics.loc[epoch_i, 'MAE']}\")\n",
        "      if epoch_i > 0:\n",
        "        rmse_improvement = self.metrics.loc[epoch_i, 'RMSE'] - self.metrics.loc[epoch_i - 1, 'RMSE']\n",
        "        print(f\"RMSE improvement from last epoch: {rmse_improvement}\")\n",
        "        # early stopping\n",
        "        if rmse_improvement > 0:\n",
        "          # the last training step raised the RMSE - early stopping criterion\n",
        "          print(\"Early stopping criterion reached\")\n",
        "          break\n",
        "      \n",
        "      self.bu_ = bu\n",
        "      self.bi_ = bi\n",
        "      self.pu_ = pu\n",
        "      self.qi_ = qi\n",
        "      self.yj_ = yj\n",
        "\n",
        "\n",
        "  def run_epoch_svdpp(self, X, bu, bi, pu, qi, yj, global_mean, n_factors, gamma, lamda5, lamda6):\n",
        "    for i in range(X.shape[0]):\n",
        "      user, item, rating = int(X[i, 0]), int(X[i, 1]), X[i, 2]\n",
        "      # calculate r_hat\n",
        "      pred = global_mean + bu[user] + bi[item]\n",
        "      Ru = self.user_items_dict[user] # get a list of all the business ids the user has rated\n",
        "\n",
        "      sigma_yj = np.sum(yj[Ru, :], axis = 0)\n",
        "\n",
        "      last_element = pu[user] + math.pow(len(Ru), -0.5)*sigma_yj\n",
        "\n",
        "      pred += np.transpose(qi[item, :]).dot(last_element)\n",
        "      \n",
        "      # calculate the error of r_hat and the real r\n",
        "      err = rating - pred\n",
        "      # update all parameters\n",
        "      # update biases\n",
        "      bu[user] += gamma * (err - lamda5 * bu[user])\n",
        "      bi[item] += gamma * (err - lamda5 * bi[item])\n",
        "      # update the latent factors\n",
        "      pu_user = pu[user,:]\n",
        "      qi_item = qi[item, :]\n",
        "      \n",
        "      pu[user, :] += gamma * (err * qi_item - lamda6 * pu_user)\n",
        "      qi[item, :] += gamma * (err * last_element - lamda6 * qi_item)\n",
        "\n",
        "      # update the yjs\n",
        "      yj[Ru, :] += gamma * (err * math.pow(len(Ru), -0.5) * qi_item - lamda6 * yj[Ru, :])\n",
        "    print(\"finished running epoch\")\n",
        "    return bu, bi, pu, qi, yj\n",
        "\n",
        "  def compute_metrics_svdpp(self, X_val, bu, bi, pu, qi, yj, global_mue, n_factors):\n",
        "    residuals = []\n",
        "    for i in range(X_val.shape[0]):\n",
        "        user, item, rating = int(X_val[i, 0]), int(X_val[i, 1]), X_val[i, 2]\n",
        "        pred = global_mue\n",
        "        if user > -1:\n",
        "            pred += bu[user]\n",
        "        if item > -1:\n",
        "            pred += bi[item]\n",
        "        if (user > -1) and (item > -1):\n",
        "          Ru = self.user_items_dict[user]\n",
        "\n",
        "          # calculate last element in the prediction\n",
        "          # caclulte sigma yj\n",
        "          sigma_yj = np.sum(yj[Ru, :], axis = 0)\n",
        "\n",
        "          \n",
        "          last_element = pu[user] + math.pow(len(Ru), -0.5)*sigma_yj\n",
        "          pred += np.transpose(qi[item, :]).dot(last_element)\n",
        "\n",
        "        residuals.append(rating - pred)\n",
        "    residuals = np.array(residuals)\n",
        "    loss = np.square(residuals).mean()\n",
        "    rmse = np.sqrt(loss)\n",
        "    mae = np.absolute(residuals).mean()\n",
        "    return loss, rmse, mae\n",
        "\n",
        "  def predict_rating(self, X_test):\n",
        "    bu = self.bu_\n",
        "    bi = self.bi_\n",
        "    pu = self.pu_\n",
        "    qi = self.qi_\n",
        "    yj = self.yj_\n",
        "    test = self.preprocess_data(X_test, is_training = False)\n",
        "    pred_vec = []\n",
        "    for i in range(test.shape[0]):\n",
        "      user, item, rating = int(test[i, 0]), int(test[i, 1]), test[i, 2]\n",
        "      pred = self.global_mue\n",
        "      if user > -1:\n",
        "          pred += bu[user]\n",
        "      if item > -1:\n",
        "          pred += bi[item]\n",
        "      if (user > -1) and (item > -1):\n",
        "        Ru = self.user_items_dict[user]\n",
        "        sigma_yj = np.sum(yj[Ru, :], axis = 0)\n",
        "        last_element = pu[user] + math.pow(len(Ru), -0.5)*sigma_yj\n",
        "        pred += np.transpose(qi[item, :]).dot(last_element)\n",
        "\n",
        "      pred_vec.append(pred)\n",
        "    \n",
        "    return pred_vec\n",
        "\n",
        "  "
      ],
      "execution_count": null,
      "outputs": []
    },
    {
      "cell_type": "markdown",
      "metadata": {
        "id": "PbLaovcv4vgY"
      },
      "source": [
        "#Content Based Model"
      ]
    },
    {
      "cell_type": "code",
      "metadata": {
        "id": "XpZC2UBIKCG3"
      },
      "source": [
        "# Content Based\n",
        "\n",
        "train_df = load(\"drive/Shareddrives/RecSys/Yelp-Assignment1/userTrainData.csv\")\n",
        "business_df = load(\"drive/Shareddrives/RecSys/Yelp-Assignment1/yelp_business.csv\")"
      ],
      "execution_count": null,
      "outputs": []
    },
    {
      "cell_type": "code",
      "metadata": {
        "colab": {
          "base_uri": "https://localhost:8080/"
        },
        "id": "BYIE5D3FMMXc",
        "outputId": "a47751f4-ddd7-47a8-a8d8-95225316e52c"
      },
      "source": [
        "print(business_df.columns.values)"
      ],
      "execution_count": null,
      "outputs": [
        {
          "output_type": "stream",
          "text": [
            "['business_id' 'name' 'neighborhood' 'address' 'city' 'state'\n",
            " 'postal_code' 'latitude' 'longitude' 'stars' 'review_count' 'is_open'\n",
            " 'categories']\n"
          ],
          "name": "stdout"
        }
      ]
    },
    {
      "cell_type": "code",
      "metadata": {
        "colab": {
          "base_uri": "https://localhost:8080/"
        },
        "id": "98gP1woiMTAZ",
        "outputId": "a6d9d2f0-0fb8-43da-d912-23cdbfcb71fc"
      },
      "source": [
        "print(business_df[\"categories\"])"
      ],
      "execution_count": null,
      "outputs": [
        {
          "output_type": "stream",
          "text": [
            "0         Dentists;General Dentistry;Health & Medical;Or...\n",
            "1         Hair Stylists;Hair Salons;Men's Hair Salons;Bl...\n",
            "2         Departments of Motor Vehicles;Public Services ...\n",
            "3                                   Sporting Goods;Shopping\n",
            "4         American (New);Nightlife;Bars;Sandwiches;Ameri...\n",
            "                                ...                        \n",
            "174562                               Car Dealers;Automotive\n",
            "174563                                Body Shops;Automotive\n",
            "174564        Home Services;Property Management;Real Estate\n",
            "174565                  Spray Tanning;Tanning;Beauty & Spas\n",
            "174566                 Drugstores;Shopping;Health & Medical\n",
            "Name: categories, Length: 174567, dtype: object\n"
          ],
          "name": "stdout"
        }
      ]
    },
    {
      "cell_type": "code",
      "metadata": {
        "colab": {
          "base_uri": "https://localhost:8080/"
        },
        "id": "uBWjhDjgVnOT",
        "outputId": "1919545f-5b10-4985-a13e-291c045d21a4"
      },
      "source": [
        "train_df.columns.values"
      ],
      "execution_count": null,
      "outputs": [
        {
          "output_type": "execute_result",
          "data": {
            "text/plain": [
              "array(['Unnamed: 0', 'user_id', 'business_id', 'stars', 'text'],\n",
              "      dtype=object)"
            ]
          },
          "metadata": {
            "tags": []
          },
          "execution_count": 87
        }
      ]
    },
    {
      "cell_type": "code",
      "metadata": {
        "colab": {
          "base_uri": "https://localhost:8080/"
        },
        "id": "-LsOl3BzUL87",
        "outputId": "118de63b-254b-4980-ac74-0f805d02579f"
      },
      "source": [
        "business_categories_df = business_df[['business_id', 'categories']]\n",
        "\n",
        "df = train_df.merge(business_categories_df, left_on='business_id', right_on='business_id')\n",
        "display(df)"
      ],
      "execution_count": null,
      "outputs": [
        {
          "output_type": "display_data",
          "data": {
            "text/html": [
              "<div>\n",
              "<style scoped>\n",
              "    .dataframe tbody tr th:only-of-type {\n",
              "        vertical-align: middle;\n",
              "    }\n",
              "\n",
              "    .dataframe tbody tr th {\n",
              "        vertical-align: top;\n",
              "    }\n",
              "\n",
              "    .dataframe thead th {\n",
              "        text-align: right;\n",
              "    }\n",
              "</style>\n",
              "<table border=\"1\" class=\"dataframe\">\n",
              "  <thead>\n",
              "    <tr style=\"text-align: right;\">\n",
              "      <th></th>\n",
              "      <th>Unnamed: 0</th>\n",
              "      <th>user_id</th>\n",
              "      <th>business_id</th>\n",
              "      <th>stars</th>\n",
              "      <th>text</th>\n",
              "      <th>categories</th>\n",
              "    </tr>\n",
              "  </thead>\n",
              "  <tbody>\n",
              "    <tr>\n",
              "      <th>0</th>\n",
              "      <td>726863</td>\n",
              "      <td>F-XkGoU9tZxZLdGI6JAtZw</td>\n",
              "      <td>NJyTPOukXuLK8vabKw7nvA</td>\n",
              "      <td>3.0</td>\n",
              "      <td>The noodles weren't as al dente as I had hoped...</td>\n",
              "      <td>Ethnic Food;Szechuan;Food;Specialty Food;Chine...</td>\n",
              "    </tr>\n",
              "    <tr>\n",
              "      <th>1</th>\n",
              "      <td>2419490</td>\n",
              "      <td>p_fas65QL25jqfV2tSSnQQ</td>\n",
              "      <td>NJyTPOukXuLK8vabKw7nvA</td>\n",
              "      <td>3.0</td>\n",
              "      <td>My wife and I decided to try this place out. W...</td>\n",
              "      <td>Ethnic Food;Szechuan;Food;Specialty Food;Chine...</td>\n",
              "    </tr>\n",
              "    <tr>\n",
              "      <th>2</th>\n",
              "      <td>1716041</td>\n",
              "      <td>_uD835kq0T-HgTdD0A7dgw</td>\n",
              "      <td>NJyTPOukXuLK8vabKw7nvA</td>\n",
              "      <td>2.0</td>\n",
              "      <td>Craving for spicy food so drove to give this p...</td>\n",
              "      <td>Ethnic Food;Szechuan;Food;Specialty Food;Chine...</td>\n",
              "    </tr>\n",
              "    <tr>\n",
              "      <th>3</th>\n",
              "      <td>1503390</td>\n",
              "      <td>WEu3ze2J66VrWX50nTy0Bw</td>\n",
              "      <td>NJyTPOukXuLK8vabKw7nvA</td>\n",
              "      <td>5.0</td>\n",
              "      <td>THE GOOD: Authentic northern chinese cuisine, ...</td>\n",
              "      <td>Ethnic Food;Szechuan;Food;Specialty Food;Chine...</td>\n",
              "    </tr>\n",
              "    <tr>\n",
              "      <th>4</th>\n",
              "      <td>633629</td>\n",
              "      <td>CxDOIDnH8gp9KXzpBHJYXw</td>\n",
              "      <td>NJyTPOukXuLK8vabKw7nvA</td>\n",
              "      <td>2.0</td>\n",
              "      <td>Usually I am happy to please at a Northern Chi...</td>\n",
              "      <td>Ethnic Food;Szechuan;Food;Specialty Food;Chine...</td>\n",
              "    </tr>\n",
              "    <tr>\n",
              "      <th>...</th>\n",
              "      <td>...</td>\n",
              "      <td>...</td>\n",
              "      <td>...</td>\n",
              "      <td>...</td>\n",
              "      <td>...</td>\n",
              "      <td>...</td>\n",
              "    </tr>\n",
              "    <tr>\n",
              "      <th>2303575</th>\n",
              "      <td>1190564</td>\n",
              "      <td>PRJMe-RgFnCEhyy7tf3DmQ</td>\n",
              "      <td>nqKYNOS11DBESbhpOmITmQ</td>\n",
              "      <td>2.0</td>\n",
              "      <td>Perkopolis is a employee discount program wher...</td>\n",
              "      <td>Arts &amp; Entertainment;Ticket Sales</td>\n",
              "    </tr>\n",
              "    <tr>\n",
              "      <th>2303576</th>\n",
              "      <td>220237</td>\n",
              "      <td>3sY-Wj7CKDb9YjQm7LG5Ew</td>\n",
              "      <td>Gf5otCX4jp__-IiHILEPtw</td>\n",
              "      <td>1.0</td>\n",
              "      <td>Christina's review on Google summed it up-\"the...</td>\n",
              "      <td>Home Services;Real Estate;Apartments</td>\n",
              "    </tr>\n",
              "    <tr>\n",
              "      <th>2303577</th>\n",
              "      <td>190375</td>\n",
              "      <td>3EKyCSrhaJ10_qX8OREpBQ</td>\n",
              "      <td>Uvl6FkQv4x2KPEGot_kTzw</td>\n",
              "      <td>5.0</td>\n",
              "      <td>This is the best place to go off the strip!!! ...</td>\n",
              "      <td>Tapas Bars;Bars;Dance Clubs;Food;Restaurants;N...</td>\n",
              "    </tr>\n",
              "    <tr>\n",
              "      <th>2303578</th>\n",
              "      <td>1999442</td>\n",
              "      <td>gAWrSaryS-hN5sNpUgmotA</td>\n",
              "      <td>QcjX_iXYr8A8wB73HEmLLg</td>\n",
              "      <td>3.0</td>\n",
              "      <td>Not the nicest bar around but it's a good atmo...</td>\n",
              "      <td>Bars;Nightlife</td>\n",
              "    </tr>\n",
              "    <tr>\n",
              "      <th>2303579</th>\n",
              "      <td>1262857</td>\n",
              "      <td>R0lfYlL4NbE8i8ZzW19muA</td>\n",
              "      <td>7NDFHqh_5Rty6y0SkNiwMA</td>\n",
              "      <td>4.0</td>\n",
              "      <td>We bought a stroller. The service and their kn...</td>\n",
              "      <td>Fashion;Shopping;Baby Gear &amp; Furniture;Childre...</td>\n",
              "    </tr>\n",
              "  </tbody>\n",
              "</table>\n",
              "<p>2303580 rows × 6 columns</p>\n",
              "</div>"
            ],
            "text/plain": [
              "         Unnamed: 0  ...                                         categories\n",
              "0            726863  ...  Ethnic Food;Szechuan;Food;Specialty Food;Chine...\n",
              "1           2419490  ...  Ethnic Food;Szechuan;Food;Specialty Food;Chine...\n",
              "2           1716041  ...  Ethnic Food;Szechuan;Food;Specialty Food;Chine...\n",
              "3           1503390  ...  Ethnic Food;Szechuan;Food;Specialty Food;Chine...\n",
              "4            633629  ...  Ethnic Food;Szechuan;Food;Specialty Food;Chine...\n",
              "...             ...  ...                                                ...\n",
              "2303575     1190564  ...                  Arts & Entertainment;Ticket Sales\n",
              "2303576      220237  ...               Home Services;Real Estate;Apartments\n",
              "2303577      190375  ...  Tapas Bars;Bars;Dance Clubs;Food;Restaurants;N...\n",
              "2303578     1999442  ...                                     Bars;Nightlife\n",
              "2303579     1262857  ...  Fashion;Shopping;Baby Gear & Furniture;Childre...\n",
              "\n",
              "[2303580 rows x 6 columns]"
            ]
          },
          "metadata": {
            "tags": []
          }
        }
      ]
    },
    {
      "cell_type": "markdown",
      "metadata": {
        "id": "gO8Y-M5McHjQ"
      },
      "source": [
        "##Model Building"
      ]
    },
    {
      "cell_type": "code",
      "metadata": {
        "id": "m-d_fNFSQKlG"
      },
      "source": [
        "import numpy as np\n",
        "import pandas as pd\n",
        "\n",
        "class CBRecommenderSystem:\n",
        "\n",
        "  def preprocess_data(self, X, is_training = True):\n",
        "      print('Preprocessing data...\\n')\n",
        "\n",
        "      if is_training:\n",
        "        user_ids = X['user_id'].unique().tolist()\n",
        "        item_ids = X['business_id'].unique().tolist()\n",
        "        n_users = len(user_ids)\n",
        "        n_items = len(item_ids)\n",
        "        user_idx = range(n_users)\n",
        "        item_idx = range(n_items)\n",
        "        self.user_mapping_ = dict(zip(user_ids, user_idx))\n",
        "        self.item_mapping_ = dict(zip(item_ids, item_idx))\n",
        "\n",
        "      X['user_id'] = X['user_id'].map(self.user_mapping_)\n",
        "      X['business_id'] = X['business_id'].map(self.item_mapping_)\n",
        "      # Tag validation set unknown users/items with -1 (enables\n",
        "      # us to detect them when calculating the metrics)\n",
        "      X.fillna(-1, inplace=True)\n",
        "      X['user_id'] = X['user_id'].astype(np.int32)\n",
        "      X['business_id'] = X['business_id'].astype(np.int32)\n",
        "\n",
        "      df = X[['user_id', 'business_id', 'stars', 'categories']]\n",
        "      # splitting the categories column\n",
        "      df[\"categories\"] = df[\"categories\"].str.split(\";\")\n",
        "      df_categories_exploded = df.explode('categories')\n",
        "      mean_category_rating = df_categories_exploded.groupby(['categories'])['stars'].mean().reset_index()\n",
        "\n",
        "      return mean_category_rating\n",
        "\n",
        "  def preprocess_validation_data(self, X_val):\n",
        "    print(\"Preprocessing validation data...\")\n",
        "    X_val[\"categories\"] = X_val[\"categories\"].str.split(\";\")\n",
        "    X_val['user_id'] = X_val['user_id'].map(self.user_mapping_)\n",
        "    X_val['business_id'] = X_val['business_id'].map(self.item_mapping_)\n",
        "    X_val.fillna(-1, inplace=True)\n",
        "    return X_val\n",
        "\n",
        "  def TrainContentModel(self, train_df):\n",
        "    train = train_df.sample(frac=0.8, random_state=7)\n",
        "    val = train_df.drop(train.index.tolist())\n",
        "    self.global_mue = np.mean(train_df[\"stars\"])\n",
        "    X = self.preprocess_data(train) # matrix of user_ids to categories\n",
        "    self.trained_model = X\n",
        "    X_val = self.preprocess_validation_data(val)\n",
        "\n",
        "    loss, rmse, mae = self.compute_metrics(X_val, self.global_mue)\n",
        "    print(f\"Metrics on validation set: Loss: {loss}, RMSE: {rmse}, MAE: {mae}\")\n",
        "\n",
        "  \n",
        "  def compute_metrics(self, X_val, global_mue):\n",
        "\n",
        "    residuals = []\n",
        "    for i in range(X_val.shape[0]):\n",
        "      categories = X_val[\"categories\"].iloc[i]\n",
        "      rating = X_val[\"stars\"].iloc[i]\n",
        "\n",
        "      categories_ratings = self.trained_model[self.trained_model[\"categories\"].isin(categories)]\n",
        "\n",
        "      if categories_ratings.shape[0] == 0:\n",
        "        pred = global_mue\n",
        "      else:\n",
        "        pred = categories_ratings[\"stars\"].mean()\n",
        "\n",
        "      residuals.append(rating - pred)\n",
        "    residuals = np.array(residuals)\n",
        "    loss = np.square(residuals).mean()\n",
        "    rmse = np.sqrt(loss)\n",
        "    mae = np.absolute(residuals).mean()\n",
        "    return loss, rmse, mae\n",
        "\n",
        "  def predict_rating(self, X_test):\n",
        "    pred_vec = []\n",
        "    test = self.preprocess_validation_data(X_test)\n",
        "    for i in range(test.shape[0]):\n",
        "      categories = test[\"categories\"].iloc[i]\n",
        "      rating = test[\"stars\"].iloc[i]\n",
        "      categories_ratings = self.trained_model[self.trained_model[\"categories\"].isin(categories)]\n",
        "\n",
        "      if categories_ratings.shape[0] == 0:\n",
        "        pred = self.global_mue\n",
        "      else:\n",
        "        pred = categories_ratings[\"stars\"].mean()\n",
        "      \n",
        "      pred_vec.append(pred)\n",
        "\n",
        "    return pred_vec\n",
        "\n"
      ],
      "execution_count": null,
      "outputs": []
    },
    {
      "cell_type": "markdown",
      "metadata": {
        "id": "8Jgvw9WHgxYX"
      },
      "source": [
        "#Predict Rating"
      ]
    },
    {
      "cell_type": "markdown",
      "metadata": {
        "id": "EiPBERB3gvpo"
      },
      "source": [
        "##Train Models"
      ]
    },
    {
      "cell_type": "markdown",
      "metadata": {
        "id": "TTmJnCbMhXet"
      },
      "source": [
        "###SVD Model Training"
      ]
    },
    {
      "cell_type": "code",
      "metadata": {
        "colab": {
          "base_uri": "https://localhost:8080/"
        },
        "id": "VVGSJ3eSXuW5",
        "outputId": "88c5bcee-eaf8-4ebd-dd3e-f1999de2b151"
      },
      "source": [
        "svd = RecommenderSystemSVD()\n",
        "svd.TrainBaseModel(train_df)"
      ],
      "execution_count": null,
      "outputs": [
        {
          "output_type": "stream",
          "text": [
            "Preprocessing data...\n",
            "\n",
            "Preprocessing data...\n",
            "\n",
            "Epoch 0 starts running\n",
            "Epoch 0 ran: 44.07 seconds, validation set metrics: Loss: 1.662391786448295, RMSE: 1.2893377317244288, MAE: 1.0570117311522738\n",
            "Epoch 1 starts running\n",
            "Epoch 1 ran: 44.9 seconds, validation set metrics: Loss: 1.6046120202051524, RMSE: 1.266732813266141, MAE: 1.034300791993172\n",
            "RMSE improvement from last epoch: -0.022604918458287715\n",
            "Epoch 2 starts running\n",
            "Epoch 2 ran: 44.68 seconds, validation set metrics: Loss: 1.5677472938307744, RMSE: 1.2520971583031304, MAE: 1.0195879096309914\n",
            "RMSE improvement from last epoch: -0.01463565496301067\n",
            "Epoch 3 starts running\n",
            "Epoch 3 ran: 44.47 seconds, validation set metrics: Loss: 1.5414720298979017, RMSE: 1.2415603206843804, MAE: 1.0087930086064354\n",
            "RMSE improvement from last epoch: -0.010536837618750017\n",
            "Epoch 4 starts running\n",
            "Epoch 4 ran: 43.88 seconds, validation set metrics: Loss: 1.5216330063385397, RMSE: 1.2335448943344298, MAE: 1.0003831036149005\n",
            "RMSE improvement from last epoch: -0.00801542634995056\n",
            "Epoch 5 starts running\n",
            "Epoch 5 ran: 45.24 seconds, validation set metrics: Loss: 1.5061184470931364, RMSE: 1.227240174983339, MAE: 0.9935883778958705\n",
            "RMSE improvement from last epoch: -0.006304719351090782\n",
            "Epoch 6 starts running\n",
            "Epoch 6 ran: 45.76 seconds, validation set metrics: Loss: 1.493706618798892, RMSE: 1.2221729087158217, MAE: 0.9879813384712356\n",
            "RMSE improvement from last epoch: -0.005067266267517301\n",
            "Epoch 7 starts running\n",
            "Epoch 7 ran: 46.1 seconds, validation set metrics: Loss: 1.4836289748570468, RMSE: 1.218043092364571, MAE: 0.9832701096311286\n",
            "RMSE improvement from last epoch: -0.004129816351250648\n",
            "Epoch 8 starts running\n",
            "Epoch 8 ran: 46.05 seconds, validation set metrics: Loss: 1.4753727873891556, RMSE: 1.2146492445925101, MAE: 0.9792646652375903\n",
            "RMSE improvement from last epoch: -0.003393847772060976\n",
            "Epoch 9 starts running\n",
            "Epoch 9 ran: 44.84 seconds, validation set metrics: Loss: 1.468580847676748, RMSE: 1.2118501754246471, MAE: 0.9758345668525835\n",
            "RMSE improvement from last epoch: -0.0027990691678629886\n",
            "Epoch 10 starts running\n",
            "Epoch 10 ran: 45.8 seconds, validation set metrics: Loss: 1.4629958782074832, RMSE: 1.209543665275249, MAE: 0.9728854954699601\n",
            "RMSE improvement from last epoch: -0.0023065101493982\n",
            "Epoch 11 starts running\n",
            "Epoch 11 ran: 44.97 seconds, validation set metrics: Loss: 1.458427545089929, RMSE: 1.2076537355922552, MAE: 0.970343297791001\n",
            "RMSE improvement from last epoch: -0.0018899296829937295\n",
            "Epoch 12 starts running\n",
            "Epoch 12 ran: 45.39 seconds, validation set metrics: Loss: 1.454731735384689, RMSE: 1.2061226037947754, MAE: 0.9681584590199227\n",
            "RMSE improvement from last epoch: -0.0015311317974797678\n",
            "Epoch 13 starts running\n",
            "Epoch 13 ran: 45.8 seconds, validation set metrics: Loss: 1.451796889973276, RMSE: 1.2049053448189513, MAE: 0.9662906939913884\n",
            "RMSE improvement from last epoch: -0.0012172589758241426\n",
            "Epoch 14 starts running\n",
            "Epoch 14 ran: 45.47 seconds, validation set metrics: Loss: 1.4495346211380866, RMSE: 1.20396620431725, MAE: 0.9646985227181297\n",
            "RMSE improvement from last epoch: -0.0009391405017011856\n",
            "Epoch 15 starts running\n",
            "Epoch 15 ran: 44.45 seconds, validation set metrics: Loss: 1.4478730858772373, RMSE: 1.2032759807613702, MAE: 0.9633490770003527\n",
            "RMSE improvement from last epoch: -0.0006902235558798875\n",
            "Epoch 16 starts running\n",
            "Epoch 16 ran: 44.5 seconds, validation set metrics: Loss: 1.4467522429875623, RMSE: 1.2028101441988102, MAE: 0.9622184501448197\n",
            "RMSE improvement from last epoch: -0.00046583656256005135\n",
            "Epoch 17 starts running\n",
            "Epoch 17 ran: 44.45 seconds, validation set metrics: Loss: 1.4461204674925616, RMSE: 1.2025474907431148, MAE: 0.9612905144547198\n",
            "RMSE improvement from last epoch: -0.0002626534556953164\n",
            "Epoch 18 starts running\n",
            "Epoch 18 ran: 44.79 seconds, validation set metrics: Loss: 1.4459321696789629, RMSE: 1.202469196977188, MAE: 0.960545016429247\n",
            "RMSE improvement from last epoch: -7.829376592694004e-05\n",
            "Epoch 19 starts running\n",
            "Epoch 19 ran: 44.32 seconds, validation set metrics: Loss: 1.4461461525673511, RMSE: 1.2025581701387051, MAE: 0.9599668778327288\n",
            "RMSE improvement from last epoch: 8.897316151723622e-05\n",
            "Early stopping criterion reached\n"
          ],
          "name": "stdout"
        }
      ]
    },
    {
      "cell_type": "markdown",
      "metadata": {
        "id": "JkKLCAkhhae-"
      },
      "source": [
        "###SVD++ Model Training"
      ]
    },
    {
      "cell_type": "code",
      "metadata": {
        "colab": {
          "base_uri": "https://localhost:8080/"
        },
        "id": "mLhGjzsAX72z",
        "outputId": "d1bc4930-94b9-400d-cbd6-aa9c29bda162"
      },
      "source": [
        "svdpp = RecommenderSystemSVDpp()\n",
        "svdpp.TrainSVDppModel(train_df)"
      ],
      "execution_count": null,
      "outputs": [
        {
          "output_type": "stream",
          "text": [
            "(2303580, 5)\n",
            "Preprocessing data...\n",
            "\n",
            "Preprocessing data...\n",
            "\n",
            "Epoch 0 starts running\n",
            "finished running epoch\n",
            "Epoch 0 ran: 207.93 seconds, validation set metrics: Loss: 1.6414093182898764, RMSE: 1.2811749756726738, MAE: 1.0482010848402763\n",
            "Epoch 1 starts running\n",
            "finished running epoch\n",
            "Epoch 1 ran: 207.53 seconds, validation set metrics: Loss: 1.5804622680953029, RMSE: 1.2571643759251623, MAE: 1.0244666691425806\n",
            "RMSE improvement from last epoch: -0.02401059974751152\n",
            "Epoch 2 starts running\n",
            "finished running epoch\n",
            "Epoch 2 ran: 206.43 seconds, validation set metrics: Loss: 1.5441101219017548, RMSE: 1.2426222764387234, MAE: 1.0097437222675016\n",
            "RMSE improvement from last epoch: -0.01454209948643892\n",
            "Epoch 3 starts running\n",
            "finished running epoch\n",
            "Epoch 3 ran: 206.62 seconds, validation set metrics: Loss: 1.5196836704991339, RMSE: 1.2327545053655793, MAE: 0.9994234846083853\n",
            "RMSE improvement from last epoch: -0.009867771073144072\n",
            "Epoch 4 starts running\n",
            "finished running epoch\n",
            "Epoch 4 ran: 207.57 seconds, validation set metrics: Loss: 1.5023652024425909, RMSE: 1.2257100809092625, MAE: 0.9917508343854953\n",
            "RMSE improvement from last epoch: -0.007044424456316811\n",
            "Epoch 5 starts running\n",
            "finished running epoch\n",
            "Epoch 5 ran: 206.14 seconds, validation set metrics: Loss: 1.4898189252547336, RMSE: 1.2205813882141303, MAE: 0.9858680256603772\n",
            "RMSE improvement from last epoch: -0.005128692695132164\n",
            "Epoch 6 starts running\n",
            "finished running epoch\n",
            "Epoch 6 ran: 208.18 seconds, validation set metrics: Loss: 1.4807570904980805, RMSE: 1.2168636285541945, MAE: 0.981316635028246\n",
            "RMSE improvement from last epoch: -0.0037177596599358154\n",
            "Epoch 7 starts running\n",
            "finished running epoch\n",
            "Epoch 7 ran: 205.55 seconds, validation set metrics: Loss: 1.4744084913207454, RMSE: 1.2142522354604686, MAE: 0.9778234554230134\n",
            "RMSE improvement from last epoch: -0.0026113930937259333\n",
            "Epoch 8 starts running\n",
            "finished running epoch\n",
            "Epoch 8 ran: 206.59 seconds, validation set metrics: Loss: 1.4702771115651254, RMSE: 1.2125498387963793, MAE: 0.9751917079302104\n",
            "RMSE improvement from last epoch: -0.001702396664089223\n",
            "Epoch 9 starts running\n",
            "finished running epoch\n",
            "Epoch 9 ran: 205.61 seconds, validation set metrics: Loss: 1.4680152875637802, RMSE: 1.2116168072306444, MAE: 0.9732898693600971\n",
            "RMSE improvement from last epoch: -0.0009330315657349875\n",
            "Epoch 10 starts running\n",
            "finished running epoch\n",
            "Epoch 10 ran: 207.84 seconds, validation set metrics: Loss: 1.4673515852635846, RMSE: 1.211342885092237, MAE: 0.9720123384275058\n",
            "RMSE improvement from last epoch: -0.00027392213840737867\n",
            "Epoch 11 starts running\n",
            "finished running epoch\n",
            "Epoch 11 ran: 206.26 seconds, validation set metrics: Loss: 1.4680508623017354, RMSE: 1.2116314878302459, MAE: 0.9712735093635716\n",
            "RMSE improvement from last epoch: 0.0002886027380089029\n",
            "Early stopping criterion reached\n"
          ],
          "name": "stdout"
        }
      ]
    },
    {
      "cell_type": "markdown",
      "metadata": {
        "id": "LNBO2ebOhQsj"
      },
      "source": [
        "###Content Based Model Training"
      ]
    },
    {
      "cell_type": "code",
      "metadata": {
        "colab": {
          "base_uri": "https://localhost:8080/"
        },
        "id": "tJE-ReLP0YU4",
        "outputId": "d0a93b72-8987-4438-e653-89e1d0b93dca"
      },
      "source": [
        "num_categories = df_categories_exploded['categories'].nunique()\n",
        "print(f\"Number of categories: {num_categories}\")"
      ],
      "execution_count": null,
      "outputs": [
        {
          "output_type": "stream",
          "text": [
            "Number of categories: 1287\n"
          ],
          "name": "stdout"
        }
      ]
    },
    {
      "cell_type": "code",
      "metadata": {
        "colab": {
          "base_uri": "https://localhost:8080/",
          "height": 419
        },
        "id": "iKhNIg3pi8QD",
        "outputId": "f7dc16e9-4bf2-4833-d6dc-5200d5ade44e"
      },
      "source": [
        "business_df = load(\"drive/Shareddrives/RecSys/Yelp-Assignment1/yelp_business.csv\")\n",
        "business_categories_df = business_df[['business_id', 'categories']]\n",
        "\n",
        "# df = train_df.join(business_categories_df.set_index('business_id'), on='business_id')\n",
        "df = train_df.merge(business_categories_df, left_on='business_id', right_on='business_id')\n",
        "display(df)"
      ],
      "execution_count": null,
      "outputs": [
        {
          "output_type": "display_data",
          "data": {
            "text/html": [
              "<div>\n",
              "<style scoped>\n",
              "    .dataframe tbody tr th:only-of-type {\n",
              "        vertical-align: middle;\n",
              "    }\n",
              "\n",
              "    .dataframe tbody tr th {\n",
              "        vertical-align: top;\n",
              "    }\n",
              "\n",
              "    .dataframe thead th {\n",
              "        text-align: right;\n",
              "    }\n",
              "</style>\n",
              "<table border=\"1\" class=\"dataframe\">\n",
              "  <thead>\n",
              "    <tr style=\"text-align: right;\">\n",
              "      <th></th>\n",
              "      <th>Unnamed: 0</th>\n",
              "      <th>user_id</th>\n",
              "      <th>business_id</th>\n",
              "      <th>stars</th>\n",
              "      <th>text</th>\n",
              "      <th>categories</th>\n",
              "    </tr>\n",
              "  </thead>\n",
              "  <tbody>\n",
              "    <tr>\n",
              "      <th>0</th>\n",
              "      <td>726863</td>\n",
              "      <td>F-XkGoU9tZxZLdGI6JAtZw</td>\n",
              "      <td>NJyTPOukXuLK8vabKw7nvA</td>\n",
              "      <td>3.0</td>\n",
              "      <td>The noodles weren't as al dente as I had hoped...</td>\n",
              "      <td>Ethnic Food;Szechuan;Food;Specialty Food;Chine...</td>\n",
              "    </tr>\n",
              "    <tr>\n",
              "      <th>1</th>\n",
              "      <td>2419490</td>\n",
              "      <td>p_fas65QL25jqfV2tSSnQQ</td>\n",
              "      <td>NJyTPOukXuLK8vabKw7nvA</td>\n",
              "      <td>3.0</td>\n",
              "      <td>My wife and I decided to try this place out. W...</td>\n",
              "      <td>Ethnic Food;Szechuan;Food;Specialty Food;Chine...</td>\n",
              "    </tr>\n",
              "    <tr>\n",
              "      <th>2</th>\n",
              "      <td>1716041</td>\n",
              "      <td>_uD835kq0T-HgTdD0A7dgw</td>\n",
              "      <td>NJyTPOukXuLK8vabKw7nvA</td>\n",
              "      <td>2.0</td>\n",
              "      <td>Craving for spicy food so drove to give this p...</td>\n",
              "      <td>Ethnic Food;Szechuan;Food;Specialty Food;Chine...</td>\n",
              "    </tr>\n",
              "    <tr>\n",
              "      <th>3</th>\n",
              "      <td>1503390</td>\n",
              "      <td>WEu3ze2J66VrWX50nTy0Bw</td>\n",
              "      <td>NJyTPOukXuLK8vabKw7nvA</td>\n",
              "      <td>5.0</td>\n",
              "      <td>THE GOOD: Authentic northern chinese cuisine, ...</td>\n",
              "      <td>Ethnic Food;Szechuan;Food;Specialty Food;Chine...</td>\n",
              "    </tr>\n",
              "    <tr>\n",
              "      <th>4</th>\n",
              "      <td>633629</td>\n",
              "      <td>CxDOIDnH8gp9KXzpBHJYXw</td>\n",
              "      <td>NJyTPOukXuLK8vabKw7nvA</td>\n",
              "      <td>2.0</td>\n",
              "      <td>Usually I am happy to please at a Northern Chi...</td>\n",
              "      <td>Ethnic Food;Szechuan;Food;Specialty Food;Chine...</td>\n",
              "    </tr>\n",
              "    <tr>\n",
              "      <th>...</th>\n",
              "      <td>...</td>\n",
              "      <td>...</td>\n",
              "      <td>...</td>\n",
              "      <td>...</td>\n",
              "      <td>...</td>\n",
              "      <td>...</td>\n",
              "    </tr>\n",
              "    <tr>\n",
              "      <th>2303575</th>\n",
              "      <td>1190564</td>\n",
              "      <td>PRJMe-RgFnCEhyy7tf3DmQ</td>\n",
              "      <td>nqKYNOS11DBESbhpOmITmQ</td>\n",
              "      <td>2.0</td>\n",
              "      <td>Perkopolis is a employee discount program wher...</td>\n",
              "      <td>Arts &amp; Entertainment;Ticket Sales</td>\n",
              "    </tr>\n",
              "    <tr>\n",
              "      <th>2303576</th>\n",
              "      <td>220237</td>\n",
              "      <td>3sY-Wj7CKDb9YjQm7LG5Ew</td>\n",
              "      <td>Gf5otCX4jp__-IiHILEPtw</td>\n",
              "      <td>1.0</td>\n",
              "      <td>Christina's review on Google summed it up-\"the...</td>\n",
              "      <td>Home Services;Real Estate;Apartments</td>\n",
              "    </tr>\n",
              "    <tr>\n",
              "      <th>2303577</th>\n",
              "      <td>190375</td>\n",
              "      <td>3EKyCSrhaJ10_qX8OREpBQ</td>\n",
              "      <td>Uvl6FkQv4x2KPEGot_kTzw</td>\n",
              "      <td>5.0</td>\n",
              "      <td>This is the best place to go off the strip!!! ...</td>\n",
              "      <td>Tapas Bars;Bars;Dance Clubs;Food;Restaurants;N...</td>\n",
              "    </tr>\n",
              "    <tr>\n",
              "      <th>2303578</th>\n",
              "      <td>1999442</td>\n",
              "      <td>gAWrSaryS-hN5sNpUgmotA</td>\n",
              "      <td>QcjX_iXYr8A8wB73HEmLLg</td>\n",
              "      <td>3.0</td>\n",
              "      <td>Not the nicest bar around but it's a good atmo...</td>\n",
              "      <td>Bars;Nightlife</td>\n",
              "    </tr>\n",
              "    <tr>\n",
              "      <th>2303579</th>\n",
              "      <td>1262857</td>\n",
              "      <td>R0lfYlL4NbE8i8ZzW19muA</td>\n",
              "      <td>7NDFHqh_5Rty6y0SkNiwMA</td>\n",
              "      <td>4.0</td>\n",
              "      <td>We bought a stroller. The service and their kn...</td>\n",
              "      <td>Fashion;Shopping;Baby Gear &amp; Furniture;Childre...</td>\n",
              "    </tr>\n",
              "  </tbody>\n",
              "</table>\n",
              "<p>2303580 rows × 6 columns</p>\n",
              "</div>"
            ],
            "text/plain": [
              "         Unnamed: 0  ...                                         categories\n",
              "0            726863  ...  Ethnic Food;Szechuan;Food;Specialty Food;Chine...\n",
              "1           2419490  ...  Ethnic Food;Szechuan;Food;Specialty Food;Chine...\n",
              "2           1716041  ...  Ethnic Food;Szechuan;Food;Specialty Food;Chine...\n",
              "3           1503390  ...  Ethnic Food;Szechuan;Food;Specialty Food;Chine...\n",
              "4            633629  ...  Ethnic Food;Szechuan;Food;Specialty Food;Chine...\n",
              "...             ...  ...                                                ...\n",
              "2303575     1190564  ...                  Arts & Entertainment;Ticket Sales\n",
              "2303576      220237  ...               Home Services;Real Estate;Apartments\n",
              "2303577      190375  ...  Tapas Bars;Bars;Dance Clubs;Food;Restaurants;N...\n",
              "2303578     1999442  ...                                     Bars;Nightlife\n",
              "2303579     1262857  ...  Fashion;Shopping;Baby Gear & Furniture;Childre...\n",
              "\n",
              "[2303580 rows x 6 columns]"
            ]
          },
          "metadata": {
            "tags": []
          }
        }
      ]
    },
    {
      "cell_type": "code",
      "metadata": {
        "colab": {
          "base_uri": "https://localhost:8080/"
        },
        "id": "QLWcQrHUhbD4",
        "outputId": "7a3b973b-c57f-489e-cdd4-173319ab2afd"
      },
      "source": [
        "# display(df)\n",
        "cbrs = CBRecommenderSystem()\n",
        "cbrs.TrainContentModel(df)"
      ],
      "execution_count": null,
      "outputs": [
        {
          "output_type": "stream",
          "text": [
            "Preprocessing data...\n",
            "\n"
          ],
          "name": "stdout"
        },
        {
          "output_type": "stream",
          "text": [
            "/usr/local/lib/python3.7/dist-packages/ipykernel_launcher.py:30: SettingWithCopyWarning: \n",
            "A value is trying to be set on a copy of a slice from a DataFrame.\n",
            "Try using .loc[row_indexer,col_indexer] = value instead\n",
            "\n",
            "See the caveats in the documentation: https://pandas.pydata.org/pandas-docs/stable/user_guide/indexing.html#returning-a-view-versus-a-copy\n"
          ],
          "name": "stderr"
        },
        {
          "output_type": "stream",
          "text": [
            "Preprocessing validation data...\n",
            "Metrics on validation set: Loss: 1.727278875555768, RMSE: 1.3142598204144293, MAE: 1.080916615055035\n"
          ],
          "name": "stdout"
        }
      ]
    },
    {
      "cell_type": "markdown",
      "metadata": {
        "id": "iE2bygGlZcrc"
      },
      "source": [
        "##Predict Ratings of Test Set"
      ]
    },
    {
      "cell_type": "code",
      "metadata": {
        "id": "s87wqbAMaA_j"
      },
      "source": [
        "def get_metrics(real, pred):\n",
        "  real = np.array(real)\n",
        "  pred = np.array(pred)\n",
        "  residuals = real - pred\n",
        "  loss = np.square(residuals).mean()\n",
        "  rmse = np.sqrt(loss)\n",
        "  mae = np.absolute(residuals).mean()\n",
        "  print(f\"Loss: {loss}, RMSE: {rmse}, MAE: {mae}\")"
      ],
      "execution_count": null,
      "outputs": []
    },
    {
      "cell_type": "markdown",
      "metadata": {
        "id": "skv3xGooiTkc"
      },
      "source": [
        "### Predict on SVD"
      ]
    },
    {
      "cell_type": "code",
      "metadata": {
        "colab": {
          "base_uri": "https://localhost:8080/"
        },
        "id": "RxxWMBHti5BT",
        "outputId": "20d87651-4115-4667-e073-89210d00c94d"
      },
      "source": [
        "test_df = load(\"drive/Shareddrives/RecSys/Yelp-Assignment1/userTestData.csv\")\n",
        "svd_pred = svd.predict_rating(test_df)\n",
        "get_metrics(test_df[\"stars\"], svd_pred)"
      ],
      "execution_count": null,
      "outputs": [
        {
          "output_type": "stream",
          "text": [
            "Preprocessing data...\n",
            "\n",
            "Loss: 1.446671030896859, RMSE: 1.2027763844110255, MAE: 0.9600652901044523\n"
          ],
          "name": "stdout"
        }
      ]
    },
    {
      "cell_type": "markdown",
      "metadata": {
        "id": "S0bYg5KTiW71"
      },
      "source": [
        "###Predict on SVD++"
      ]
    },
    {
      "cell_type": "code",
      "metadata": {
        "colab": {
          "base_uri": "https://localhost:8080/"
        },
        "id": "CaZ0FyugZilN",
        "outputId": "adba8877-f127-49af-805f-a46c52ec7698"
      },
      "source": [
        "test_df = load(\"drive/Shareddrives/RecSys/Yelp-Assignment1/userTestData.csv\")\n",
        "svdpp_pred = svdpp.predict_rating(test_df)\n",
        "get_metrics(test_df[\"stars\"], svdpp_pred)"
      ],
      "execution_count": null,
      "outputs": [
        {
          "output_type": "stream",
          "text": [
            "Preprocessing data...\n",
            "\n",
            "Loss: 1.467604234683506, RMSE: 1.2114471654527514, MAE: 0.9715011694722003\n"
          ],
          "name": "stdout"
        }
      ]
    },
    {
      "cell_type": "markdown",
      "metadata": {
        "id": "TJ-E0t6njHn9"
      },
      "source": [
        "###Predict on Content Based"
      ]
    },
    {
      "cell_type": "code",
      "metadata": {
        "colab": {
          "base_uri": "https://localhost:8080/"
        },
        "id": "nCyqrNazn8nT",
        "outputId": "2b97b6f2-95d7-48e1-cae2-ae7cffe6ba01"
      },
      "source": [
        "test_df = load(\"drive/Shareddrives/RecSys/Yelp-Assignment1/userTestData.csv\")\n",
        "test_cb = test_df.merge(business_categories_df, left_on='business_id', right_on='business_id')\n",
        "cbrs_pred = cbrs.predict_rating(test_cb)\n",
        "get_metrics(test_df[\"stars\"], cbrs_pred)"
      ],
      "execution_count": null,
      "outputs": [
        {
          "output_type": "stream",
          "text": [
            "Preprocessing validation data...\n",
            "Loss: 1.8182788241459125, RMSE: 1.348435695220915, MAE: 1.1106082269104338\n"
          ],
          "name": "stdout"
        }
      ]
    },
    {
      "cell_type": "markdown",
      "metadata": {
        "id": "ddUtEAaAcJZ2"
      },
      "source": [
        "#Hybrid Model"
      ]
    },
    {
      "cell_type": "code",
      "metadata": {
        "id": "765EnXPYcI12"
      },
      "source": [
        "class HybridModel:\n",
        "  def predict_rating(self, svd_pred, svdpp_pred, cbrs_pred):\n",
        "    svd_pred = np.array(svd_pred)\n",
        "    svdpp_pred = np.array(svdpp_pred)\n",
        "    cbrs_pred = np.array(cbrs_pred)\n",
        "    hybrid_pred = 0.3*svd_pred + 0.5*svdpp_pred + 0.2*cbrs_pred\n",
        "    return hybrid_pred"
      ],
      "execution_count": null,
      "outputs": []
    },
    {
      "cell_type": "code",
      "metadata": {
        "colab": {
          "base_uri": "https://localhost:8080/"
        },
        "id": "5mGV1H_TpUk3",
        "outputId": "96df5347-ed96-499e-a05c-545b746c898c"
      },
      "source": [
        "hm = HybridModel()\n",
        "hybrid_pred = hm.predict_rating(svd_pred, svdpp_pred, cbrs_pred)\n",
        "get_metrics(test_df[\"stars\"], hybrid_pred)"
      ],
      "execution_count": null,
      "outputs": [
        {
          "output_type": "stream",
          "text": [
            "Loss: 1.4664137196399405, RMSE: 1.2109557050693227, MAE: 0.9791001278518539\n"
          ],
          "name": "stdout"
        }
      ]
    }
  ]
}